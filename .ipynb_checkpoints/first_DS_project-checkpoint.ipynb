{
 "cells": [
  {
   "cell_type": "code",
   "execution_count": null,
   "metadata": {},
   "outputs": [],
   "source": [
    "#link for this project\n",
    "https://github.com/FedeVas/first_DS_project"
   ]
  },
  {
   "cell_type": "markdown",
   "metadata": {
    "toc": true
   },
   "source": [
    "<h1>Содержание<span class=\"tocSkip\"></span></h1>\n",
    "<div class=\"toc\"><ul class=\"toc-item\"><li><span><a href=\"#Подготовка-данных\" data-toc-modified-id=\"Подготовка-данных-1\"><span class=\"toc-item-num\">1&nbsp;&nbsp;</span>Подготовка данных</a></span><ul class=\"toc-item\"><li><span><a href=\"#Проверка-на-дубликаты-и-лишнюю-информацию\" data-toc-modified-id=\"Проверка-на-дубликаты-и-лишнюю-информацию-1.1\"><span class=\"toc-item-num\">1.1&nbsp;&nbsp;</span>Проверка на дубликаты и лишнюю информацию</a></span></li><li><span><a href=\"#Проверка-на-пропуски-в-данных\" data-toc-modified-id=\"Проверка-на-пропуски-в-данных-1.2\"><span class=\"toc-item-num\">1.2&nbsp;&nbsp;</span>Проверка на пропуски в данных</a></span></li><li><span><a href=\"#Предобработка-данных\" data-toc-modified-id=\"Предобработка-данных-1.3\"><span class=\"toc-item-num\">1.3&nbsp;&nbsp;</span>Предобработка данных</a></span></li><li><span><a href=\"#Поиск-взаимных-связей-в-данных\" data-toc-modified-id=\"Поиск-взаимных-связей-в-данных-1.4\"><span class=\"toc-item-num\">1.4&nbsp;&nbsp;</span>Поиск взаимных связей в данных</a></span></li><li><span><a href=\"#Выводы\" data-toc-modified-id=\"Выводы-1.5\"><span class=\"toc-item-num\">1.5&nbsp;&nbsp;</span>Выводы</a></span></li></ul></li><li><span><a href=\"#Исследование-задачи\" data-toc-modified-id=\"Исследование-задачи-2\"><span class=\"toc-item-num\">2&nbsp;&nbsp;</span>Исследование задачи</a></span><ul class=\"toc-item\"><li><span><a href=\"#Получение-выборок-для-построения-моделей\" data-toc-modified-id=\"Получение-выборок-для-построения-моделей-2.1\"><span class=\"toc-item-num\">2.1&nbsp;&nbsp;</span>Получение выборок для построения моделей</a></span></li><li><span><a href=\"#Построение-моделей-и-поиск-лучшей\" data-toc-modified-id=\"Построение-моделей-и-поиск-лучшей-2.2\"><span class=\"toc-item-num\">2.2&nbsp;&nbsp;</span>Построение моделей и поиск лучшей</a></span><ul class=\"toc-item\"><li><span><a href=\"#DecisionTree\" data-toc-modified-id=\"DecisionTree-2.2.1\"><span class=\"toc-item-num\">2.2.1&nbsp;&nbsp;</span>DecisionTree</a></span></li><li><span><a href=\"#RandomForest\" data-toc-modified-id=\"RandomForest-2.2.2\"><span class=\"toc-item-num\">2.2.2&nbsp;&nbsp;</span>RandomForest</a></span></li><li><span><a href=\"#LogisticRegression\" data-toc-modified-id=\"LogisticRegression-2.2.3\"><span class=\"toc-item-num\">2.2.3&nbsp;&nbsp;</span>LogisticRegression</a></span></li></ul></li><li><span><a href=\"#Выводы\" data-toc-modified-id=\"Выводы-2.3\"><span class=\"toc-item-num\">2.3&nbsp;&nbsp;</span>Выводы</a></span></li></ul></li><li><span><a href=\"#Борьба-с-дисбалансом\" data-toc-modified-id=\"Борьба-с-дисбалансом-3\"><span class=\"toc-item-num\">3&nbsp;&nbsp;</span>Борьба с дисбалансом</a></span><ul class=\"toc-item\"><li><span><a href=\"#Upsampling\" data-toc-modified-id=\"Upsampling-3.1\"><span class=\"toc-item-num\">3.1&nbsp;&nbsp;</span>Upsampling</a></span><ul class=\"toc-item\"><li><span><a href=\"#DecisionTree\" data-toc-modified-id=\"DecisionTree-3.1.1\"><span class=\"toc-item-num\">3.1.1&nbsp;&nbsp;</span>DecisionTree</a></span></li><li><span><a href=\"#RandomForest\" data-toc-modified-id=\"RandomForest-3.1.2\"><span class=\"toc-item-num\">3.1.2&nbsp;&nbsp;</span>RandomForest</a></span></li><li><span><a href=\"#LogisticRegression\" data-toc-modified-id=\"LogisticRegression-3.1.3\"><span class=\"toc-item-num\">3.1.3&nbsp;&nbsp;</span>LogisticRegression</a></span></li><li><span><a href=\"#Выводы\" data-toc-modified-id=\"Выводы-3.1.4\"><span class=\"toc-item-num\">3.1.4&nbsp;&nbsp;</span>Выводы</a></span></li></ul></li><li><span><a href=\"#Downsampling\" data-toc-modified-id=\"Downsampling-3.2\"><span class=\"toc-item-num\">3.2&nbsp;&nbsp;</span>Downsampling</a></span><ul class=\"toc-item\"><li><span><a href=\"#DecisionTree\" data-toc-modified-id=\"DecisionTree-3.2.1\"><span class=\"toc-item-num\">3.2.1&nbsp;&nbsp;</span>DecisionTree</a></span></li><li><span><a href=\"#RandomForest\" data-toc-modified-id=\"RandomForest-3.2.2\"><span class=\"toc-item-num\">3.2.2&nbsp;&nbsp;</span>RandomForest</a></span></li><li><span><a href=\"#LogisticRegression\" data-toc-modified-id=\"LogisticRegression-3.2.3\"><span class=\"toc-item-num\">3.2.3&nbsp;&nbsp;</span>LogisticRegression</a></span></li><li><span><a href=\"#Выводы\" data-toc-modified-id=\"Выводы-3.2.4\"><span class=\"toc-item-num\">3.2.4&nbsp;&nbsp;</span>Выводы</a></span></li></ul></li><li><span><a href=\"#Выводы-к-п.3\" data-toc-modified-id=\"Выводы-к-п.3-3.3\"><span class=\"toc-item-num\">3.3&nbsp;&nbsp;</span>Выводы к п.3</a></span></li></ul></li><li><span><a href=\"#Тестирование-модели\" data-toc-modified-id=\"Тестирование-модели-4\"><span class=\"toc-item-num\">4&nbsp;&nbsp;</span>Тестирование модели</a></span><ul class=\"toc-item\"><li><span><a href=\"#Тест-1\" data-toc-modified-id=\"Тест-1-4.1\"><span class=\"toc-item-num\">4.1&nbsp;&nbsp;</span>Тест 1</a></span></li><li><span><a href=\"#Тест-2\" data-toc-modified-id=\"Тест-2-4.2\"><span class=\"toc-item-num\">4.2&nbsp;&nbsp;</span>Тест 2</a></span></li><li><span><a href=\"#Тест-3\" data-toc-modified-id=\"Тест-3-4.3\"><span class=\"toc-item-num\">4.3&nbsp;&nbsp;</span>Тест 3</a></span></li><li><span><a href=\"#Тест-4\" data-toc-modified-id=\"Тест-4-4.4\"><span class=\"toc-item-num\">4.4&nbsp;&nbsp;</span>Тест 4</a></span></li><li><span><a href=\"#Выводы-к-п.4\" data-toc-modified-id=\"Выводы-к-п.4-4.5\"><span class=\"toc-item-num\">4.5&nbsp;&nbsp;</span>Выводы к п.4</a></span></li></ul></li><li><span><a href=\"#Чек-лист-готовности-проекта\" data-toc-modified-id=\"Чек-лист-готовности-проекта-5\"><span class=\"toc-item-num\">5&nbsp;&nbsp;</span>Чек-лист готовности проекта</a></span></li></ul></div>"
   ]
  },
  {
   "cell_type": "markdown",
   "metadata": {},
   "source": [
    "# Отток клиентов"
   ]
  },
  {
   "cell_type": "markdown",
   "metadata": {},
   "source": [
    "Из «Бета-Банка» стали уходить клиенты. Каждый месяц. Немного, но заметно. Банковские маркетологи посчитали: сохранять текущих клиентов дешевле, чем привлекать новых.\n",
    "\n",
    "Нужно спрогнозировать, уйдёт клиент из банка в ближайшее время или нет. Вам предоставлены исторические данные о поведении клиентов и расторжении договоров с банком. \n",
    "\n",
    "Постройте модель с предельно большим значением *F1*-меры. Чтобы сдать проект успешно, нужно довести метрику до 0.59. Проверьте *F1*-меру на тестовой выборке самостоятельно.\n",
    "\n",
    "Дополнительно измеряйте *AUC-ROC*, сравнивайте её значение с *F1*-мерой.\n",
    "\n",
    "Источник данных: [https://www.kaggle.com/barelydedicated/bank-customer-churn-modeling](https://www.kaggle.com/barelydedicated/bank-customer-churn-modeling)"
   ]
  },
  {
   "cell_type": "markdown",
   "metadata": {},
   "source": [
    "## Подготовка данных"
   ]
  },
  {
   "cell_type": "code",
   "execution_count": 580,
   "metadata": {},
   "outputs": [],
   "source": [
    "import pandas as pd\n",
    "import warnings\n",
    "\n",
    "import matplotlib.pyplot as plt\n",
    "\n",
    "from sklearn.ensemble import RandomForestClassifier\n",
    "from sklearn.linear_model import LogisticRegression\n",
    "from sklearn.metrics import f1_score, roc_auc_score, roc_curve\n",
    "from sklearn.model_selection import train_test_split\n",
    "from sklearn.preprocessing import MinMaxScaler, StandardScaler\n",
    "from sklearn.tree import DecisionTreeClassifier\n",
    "from sklearn.tree import plot_tree\n",
    "from sklearn.utils import shuffle\n",
    "\n",
    "from tqdm import tqdm\n",
    "\n"
   ]
  },
  {
   "cell_type": "code",
   "execution_count": 581,
   "metadata": {},
   "outputs": [],
   "source": [
    "df = pd.read_csv('/datasets/Churn.csv')"
   ]
  },
  {
   "cell_type": "code",
   "execution_count": 582,
   "metadata": {},
   "outputs": [
    {
     "name": "stdout",
     "output_type": "stream",
     "text": [
      "<class 'pandas.core.frame.DataFrame'>\n",
      "\n",
      "RangeIndex: 10000 entries, 0 to 9999\n",
      "\n",
      "Data columns (total 14 columns):\n",
      "\n",
      " #   Column           Non-Null Count  Dtype  \n",
      "\n",
      "---  ------           --------------  -----  \n",
      "\n",
      " 0   RowNumber        10000 non-null  int64  \n",
      "\n",
      " 1   CustomerId       10000 non-null  int64  \n",
      "\n",
      " 2   Surname          10000 non-null  object \n",
      "\n",
      " 3   CreditScore      10000 non-null  int64  \n",
      "\n",
      " 4   Geography        10000 non-null  object \n",
      "\n",
      " 5   Gender           10000 non-null  object \n",
      "\n",
      " 6   Age              10000 non-null  int64  \n",
      "\n",
      " 7   Tenure           9091 non-null   float64\n",
      "\n",
      " 8   Balance          10000 non-null  float64\n",
      "\n",
      " 9   NumOfProducts    10000 non-null  int64  \n",
      "\n",
      " 10  HasCrCard        10000 non-null  int64  \n",
      "\n",
      " 11  IsActiveMember   10000 non-null  int64  \n",
      "\n",
      " 12  EstimatedSalary  10000 non-null  float64\n",
      "\n",
      " 13  Exited           10000 non-null  int64  \n",
      "\n",
      "dtypes: float64(3), int64(8), object(3)\n",
      "\n",
      "memory usage: 1.1+ MB\n"
     ]
    }
   ],
   "source": [
    "df.info()"
   ]
  },
  {
   "cell_type": "code",
   "execution_count": 583,
   "metadata": {},
   "outputs": [
    {
     "data": {
      "text/html": [
       "<div>\n",
       "<style scoped>\n",
       "    .dataframe tbody tr th:only-of-type {\n",
       "        vertical-align: middle;\n",
       "    }\n",
       "\n",
       "    .dataframe tbody tr th {\n",
       "        vertical-align: top;\n",
       "    }\n",
       "\n",
       "    .dataframe thead th {\n",
       "        text-align: right;\n",
       "    }\n",
       "</style>\n",
       "<table border=\"1\" class=\"dataframe\">\n",
       "  <thead>\n",
       "    <tr style=\"text-align: right;\">\n",
       "      <th></th>\n",
       "      <th>RowNumber</th>\n",
       "      <th>CustomerId</th>\n",
       "      <th>Surname</th>\n",
       "      <th>CreditScore</th>\n",
       "      <th>Geography</th>\n",
       "      <th>Gender</th>\n",
       "      <th>Age</th>\n",
       "      <th>Tenure</th>\n",
       "      <th>Balance</th>\n",
       "      <th>NumOfProducts</th>\n",
       "      <th>HasCrCard</th>\n",
       "      <th>IsActiveMember</th>\n",
       "      <th>EstimatedSalary</th>\n",
       "      <th>Exited</th>\n",
       "    </tr>\n",
       "  </thead>\n",
       "  <tbody>\n",
       "    <tr>\n",
       "      <th>5355</th>\n",
       "      <td>5356</td>\n",
       "      <td>15773751</td>\n",
       "      <td>Y?</td>\n",
       "      <td>597</td>\n",
       "      <td>France</td>\n",
       "      <td>Female</td>\n",
       "      <td>29</td>\n",
       "      <td>1.0</td>\n",
       "      <td>132144.35</td>\n",
       "      <td>1</td>\n",
       "      <td>1</td>\n",
       "      <td>0</td>\n",
       "      <td>158086.33</td>\n",
       "      <td>0</td>\n",
       "    </tr>\n",
       "    <tr>\n",
       "      <th>1954</th>\n",
       "      <td>1955</td>\n",
       "      <td>15600734</td>\n",
       "      <td>Townsend</td>\n",
       "      <td>624</td>\n",
       "      <td>Spain</td>\n",
       "      <td>Male</td>\n",
       "      <td>51</td>\n",
       "      <td>5.0</td>\n",
       "      <td>174397.21</td>\n",
       "      <td>2</td>\n",
       "      <td>1</td>\n",
       "      <td>1</td>\n",
       "      <td>172372.63</td>\n",
       "      <td>0</td>\n",
       "    </tr>\n",
       "    <tr>\n",
       "      <th>8334</th>\n",
       "      <td>8335</td>\n",
       "      <td>15610343</td>\n",
       "      <td>Marshall-Hall</td>\n",
       "      <td>705</td>\n",
       "      <td>France</td>\n",
       "      <td>Female</td>\n",
       "      <td>37</td>\n",
       "      <td>10.0</td>\n",
       "      <td>0.00</td>\n",
       "      <td>2</td>\n",
       "      <td>1</td>\n",
       "      <td>1</td>\n",
       "      <td>13935.53</td>\n",
       "      <td>1</td>\n",
       "    </tr>\n",
       "    <tr>\n",
       "      <th>5761</th>\n",
       "      <td>5762</td>\n",
       "      <td>15749119</td>\n",
       "      <td>Santiago</td>\n",
       "      <td>710</td>\n",
       "      <td>France</td>\n",
       "      <td>Female</td>\n",
       "      <td>31</td>\n",
       "      <td>3.0</td>\n",
       "      <td>0.00</td>\n",
       "      <td>2</td>\n",
       "      <td>1</td>\n",
       "      <td>1</td>\n",
       "      <td>112289.06</td>\n",
       "      <td>0</td>\n",
       "    </tr>\n",
       "    <tr>\n",
       "      <th>6582</th>\n",
       "      <td>6583</td>\n",
       "      <td>15785975</td>\n",
       "      <td>Mason</td>\n",
       "      <td>525</td>\n",
       "      <td>Spain</td>\n",
       "      <td>Female</td>\n",
       "      <td>60</td>\n",
       "      <td>7.0</td>\n",
       "      <td>0.00</td>\n",
       "      <td>2</td>\n",
       "      <td>0</td>\n",
       "      <td>1</td>\n",
       "      <td>168034.90</td>\n",
       "      <td>0</td>\n",
       "    </tr>\n",
       "  </tbody>\n",
       "</table>\n",
       "</div>"
      ],
      "text/plain": [
       "      RowNumber  CustomerId        Surname  CreditScore Geography  Gender  \\\n",
       "5355       5356    15773751             Y?          597    France  Female   \n",
       "1954       1955    15600734       Townsend          624     Spain    Male   \n",
       "8334       8335    15610343  Marshall-Hall          705    France  Female   \n",
       "5761       5762    15749119       Santiago          710    France  Female   \n",
       "6582       6583    15785975          Mason          525     Spain  Female   \n",
       "\n",
       "      Age  Tenure    Balance  NumOfProducts  HasCrCard  IsActiveMember  \\\n",
       "5355   29     1.0  132144.35              1          1               0   \n",
       "1954   51     5.0  174397.21              2          1               1   \n",
       "8334   37    10.0       0.00              2          1               1   \n",
       "5761   31     3.0       0.00              2          1               1   \n",
       "6582   60     7.0       0.00              2          0               1   \n",
       "\n",
       "      EstimatedSalary  Exited  \n",
       "5355        158086.33       0  \n",
       "1954        172372.63       0  \n",
       "8334         13935.53       1  \n",
       "5761        112289.06       0  \n",
       "6582        168034.90       0  "
      ]
     },
     "execution_count": 583,
     "metadata": {},
     "output_type": "execute_result"
    }
   ],
   "source": [
    "#посмотрим на небольшую выборку из таблицы, чтобы понять с чем имеем дело\n",
    "df.sample(5)"
   ]
  },
  {
   "cell_type": "code",
   "execution_count": 584,
   "metadata": {},
   "outputs": [
    {
     "name": "stdout",
     "output_type": "stream",
     "text": [
      "<class 'pandas.core.frame.DataFrame'>\n",
      "\n",
      "RangeIndex: 10000 entries, 0 to 9999\n",
      "\n",
      "Data columns (total 14 columns):\n",
      "\n",
      " #   Column            Non-Null Count  Dtype  \n",
      "\n",
      "---  ------            --------------  -----  \n",
      "\n",
      " 0   row_number        10000 non-null  int64  \n",
      "\n",
      " 1   customer_id       10000 non-null  int64  \n",
      "\n",
      " 2   surname           10000 non-null  object \n",
      "\n",
      " 3   credit_score      10000 non-null  int64  \n",
      "\n",
      " 4   geography         10000 non-null  object \n",
      "\n",
      " 5   gender            10000 non-null  object \n",
      "\n",
      " 6   age               10000 non-null  int64  \n",
      "\n",
      " 7   tenure            9091 non-null   float64\n",
      "\n",
      " 8   balance           10000 non-null  float64\n",
      "\n",
      " 9   num_of_products   10000 non-null  int64  \n",
      "\n",
      " 10  has_cr_card       10000 non-null  int64  \n",
      "\n",
      " 11  is_active_member  10000 non-null  int64  \n",
      "\n",
      " 12  estimated_salary  10000 non-null  float64\n",
      "\n",
      " 13  exited            10000 non-null  int64  \n",
      "\n",
      "dtypes: float64(3), int64(8), object(3)\n",
      "\n",
      "memory usage: 1.1+ MB\n"
     ]
    }
   ],
   "source": [
    "#переименуем столбцы (избавимся от Snake)\n",
    "col_names_dict = {'RowNumber': 'row_number',\n",
    "                  'CustomerId': 'customer_id',\n",
    "                  'Surname': 'surname',\n",
    "                  'CreditScore': 'credit_score',\n",
    "                  'Geography': 'geography',\n",
    "                  'Gender': 'gender',\n",
    "                  'Age': 'age',\n",
    "                  'Tenure': 'tenure',\n",
    "                  'Balance': 'balance',\n",
    "                  'NumOfProducts': 'num_of_products',\n",
    "                  'HasCrCard': 'has_cr_card',\n",
    "                  'IsActiveMember': 'is_active_member',\n",
    "                  'EstimatedSalary': 'estimated_salary',\n",
    "                  'Exited': 'exited'\n",
    "                 }\n",
    "df = df.rename(columns=col_names_dict)\n",
    "df.info()"
   ]
  },
  {
   "cell_type": "markdown",
   "metadata": {},
   "source": [
    "    Краткий вывод: Имеем датасет из 13-ти столбцов по 10000 строк, в одном столбце присутствовали пропуски. Типы данных соответсвуют названиям столбцов. Были переименованы столбцы для лучшего восприятия."
   ]
  },
  {
   "cell_type": "markdown",
   "metadata": {},
   "source": [
    "### Проверка на дубликаты и лишнюю информацию"
   ]
  },
  {
   "cell_type": "code",
   "execution_count": 585,
   "metadata": {},
   "outputs": [
    {
     "data": {
      "text/plain": [
       "0"
      ]
     },
     "execution_count": 585,
     "metadata": {},
     "output_type": "execute_result"
    }
   ],
   "source": [
    "#проверим кол-во дубликатов\n",
    "(df.duplicated(subset=None, keep='first')).sum()"
   ]
  },
  {
   "cell_type": "markdown",
   "metadata": {},
   "source": [
    "    Полных дубликатов не оказалось"
   ]
  },
  {
   "cell_type": "code",
   "execution_count": 586,
   "metadata": {},
   "outputs": [
    {
     "data": {
      "text/plain": [
       "0"
      ]
     },
     "execution_count": 586,
     "metadata": {},
     "output_type": "execute_result"
    }
   ],
   "source": [
    "#проверим столбец CustomerId на наличие нескольких записей об одном и том же клиенте банка.\n",
    "(df['customer_id'].duplicated(keep='first')).sum()"
   ]
  },
  {
   "cell_type": "markdown",
   "metadata": {},
   "source": [
    "    Дубликатов нет и здесь, можем спокойно прощаться с некоторыми столбцами."
   ]
  },
  {
   "cell_type": "code",
   "execution_count": 587,
   "metadata": {},
   "outputs": [],
   "source": [
    "#уберем столбцы с лишней информацией\n",
    "df = df.drop(columns = ['surname', 'row_number', 'customer_id'])"
   ]
  },
  {
   "cell_type": "code",
   "execution_count": 588,
   "metadata": {},
   "outputs": [
    {
     "data": {
      "text/plain": [
       "(10000, 11)"
      ]
     },
     "execution_count": 588,
     "metadata": {},
     "output_type": "execute_result"
    }
   ],
   "source": [
    "#убедимся что столбцы убрали\n",
    "df.shape"
   ]
  },
  {
   "cell_type": "markdown",
   "metadata": {},
   "source": [
    "    Краткий вывод: Дубликатов в данных нет, датасет хорошо подготовлен в этом плане. Убрали лишние столбцы, которые не понадобятся для дальнейшей работы."
   ]
  },
  {
   "cell_type": "markdown",
   "metadata": {},
   "source": [
    "### Проверка на пропуски в данных"
   ]
  },
  {
   "cell_type": "code",
   "execution_count": 589,
   "metadata": {},
   "outputs": [
    {
     "data": {
      "text/plain": [
       "1.0     952\n",
       "2.0     950\n",
       "8.0     933\n",
       "3.0     928\n",
       "5.0     927\n",
       "7.0     925\n",
       "4.0     885\n",
       "9.0     882\n",
       "6.0     881\n",
       "10.0    446\n",
       "0.0     382\n",
       "Name: tenure, dtype: int64"
      ]
     },
     "execution_count": 589,
     "metadata": {},
     "output_type": "execute_result"
    }
   ],
   "source": [
    "df['tenure'].value_counts()"
   ]
  },
  {
   "cell_type": "code",
   "execution_count": 590,
   "metadata": {},
   "outputs": [],
   "source": [
    "#заполним пропуски в столбце Tenure медианным значением, т.к. дробных значений в столбце нет\n",
    "df['tenure'].fillna(df['tenure'].median(), inplace=True)"
   ]
  },
  {
   "cell_type": "markdown",
   "metadata": {},
   "source": [
    "    Краткий вывод: Пропуски в данных убраны, проверку на то, как сильно заполненные пропуски будут влиять на конечный результат проводить не будем, т.к. задачи такой не стоит. Но стоило бы."
   ]
  },
  {
   "cell_type": "markdown",
   "metadata": {},
   "source": [
    "### Предобработка данных"
   ]
  },
  {
   "cell_type": "markdown",
   "metadata": {},
   "source": [
    "Переведем столбцы в категории и числовые значения закодируем."
   ]
  },
  {
   "cell_type": "code",
   "execution_count": 591,
   "metadata": {},
   "outputs": [],
   "source": [
    "#столбцы с категорями\n",
    "categorical_cols = ['geography', 'gender']\n",
    "#столбцы с числовыми значениями это все, кроме категориальных\n",
    "numerical_cols = [col for col in df.columns if col not in categorical_cols]"
   ]
  },
  {
   "cell_type": "code",
   "execution_count": 592,
   "metadata": {},
   "outputs": [
    {
     "name": "stdout",
     "output_type": "stream",
     "text": [
      "geography - ['France' 'Spain' 'Germany']\n",
      "\n",
      "gender - ['Female' 'Male']\n"
     ]
    }
   ],
   "source": [
    "#проверим уникальные значения в категориальных столбцах\n",
    "for name in categorical_cols:\n",
    "    print(f'{name} - {df[name].unique()}')"
   ]
  },
  {
   "cell_type": "code",
   "execution_count": 593,
   "metadata": {},
   "outputs": [],
   "source": [
    "#закодируем столбец gender\n",
    "df['gender'].replace(to_replace={'Female': 0, 'Male': 1}, inplace=True)"
   ]
  },
  {
   "cell_type": "code",
   "execution_count": 594,
   "metadata": {},
   "outputs": [],
   "source": [
    "#закодируем столбец geography при помощи OHE\n",
    "df = pd.get_dummies(data=df, columns=['geography'])"
   ]
  },
  {
   "cell_type": "markdown",
   "metadata": {},
   "source": [
    "    Краткий вывод: Провели предбработку данных и заменили некоторые категориальные данные для упрощения дальнейших операций."
   ]
  },
  {
   "cell_type": "markdown",
   "metadata": {},
   "source": [
    "### Поиск взаимных связей в данных"
   ]
  },
  {
   "cell_type": "code",
   "execution_count": 595,
   "metadata": {},
   "outputs": [
    {
     "data": {
      "image/png": "[encoded data removed]",
      "text/plain": [
       "<Figure size 576x288 with 1 Axes>"
      ]
     },
     "metadata": {},
     "output_type": "display_data"
    }
   ],
   "source": [
    "#разделим столбец о \"факте ухода клиента\" в зависимости от того, сколько лет человек был клиентом банка\n",
    "tenure_exited_0=df[df.exited==0].tenure\n",
    "tenure_exited_1=df[df.exited==1].tenure\n",
    "\n",
    "#построим график\n",
    "plt.figure(figsize=(8, 4), facecolor='lightgrey')\n",
    "plt.xlabel('Tenure')\n",
    "plt.ylabel('Number of Customers Exited')\n",
    "plt.title('Bank Customer Churn prediction (Tenure vs Exited)')\n",
    "plt.hist([tenure_exited_0, tenure_exited_1], label=['NotExited', 'Exited']);\n",
    "plt.grid(True, linestyle='--', color='green')\n",
    "plt.legend();"
   ]
  },
  {
   "cell_type": "markdown",
   "metadata": {},
   "source": [
    "   Доли ушедших клиентов от общего кол-ва примерно одинаковы во всех срезах."
   ]
  },
  {
   "cell_type": "code",
   "execution_count": 596,
   "metadata": {},
   "outputs": [
    {
     "data": {
      "image/png": "[encoded data removed]",
      "text/plain": [
       "<Figure size 576x288 with 1 Axes>"
      ]
     },
     "metadata": {},
     "output_type": "display_data"
    }
   ],
   "source": [
    "#разделим столбец о \"факте ухода клиента\" в зависимости от того, какой кредитный рейтинг у клиента\n",
    "credit_score_exited_0=df[df.exited==0].credit_score\n",
    "credit_score_exited_1=df[df.exited==1].credit_score\n",
    "\n",
    "#построим график\n",
    "plt.figure(figsize=(8, 4), facecolor='lightgrey')\n",
    "plt.xlabel('Credit Score')\n",
    "plt.ylabel('Number of Customers Exited')\n",
    "plt.title('Bank Customer Churn prediction (Credit Score vs Exited)')\n",
    "plt.hist([credit_score_exited_0, credit_score_exited_1], label=['NotExited', 'Exited']);\n",
    "plt.grid(True, linestyle='--', color='green')\n",
    "plt.legend();"
   ]
  },
  {
   "cell_type": "markdown",
   "metadata": {},
   "source": [
    "Доли ушедших клиентов от общего кол-ва примерно одинаковы во всех срезах. Кроме группы с очень низким рейтингом (~400), но в этой группе в принципе мало клиентов, поэтому является нерепрезентативным."
   ]
  },
  {
   "cell_type": "code",
   "execution_count": 597,
   "metadata": {},
   "outputs": [
    {
     "data": {
      "image/png": "[encoded data removed]",
      "text/plain": [
       "<Figure size 576x288 with 1 Axes>"
      ]
     },
     "metadata": {},
     "output_type": "display_data"
    }
   ],
   "source": [
    "#разделим столбец о \"факте ухода клиента\" в зависимости от кол-ва используемых продуктов у клиента банка\n",
    "num_of_products_exited_0=df[df.exited==0].num_of_products\n",
    "num_of_products_exited_1=df[df.exited==1].num_of_products\n",
    "\n",
    "#построим график\n",
    "plt.figure(figsize=(8, 4), facecolor='lightgrey')\n",
    "plt.xlabel('Num of Products')\n",
    "plt.ylabel('Number of Customers Exited')\n",
    "plt.title('Bank Customer Churn prediction (Num of Products vs Exited)')\n",
    "plt.hist([num_of_products_exited_0, num_of_products_exited_1], label=['NotExited', 'Exited']);\n",
    "plt.grid(True, linestyle='--', color='green')\n",
    "plt.legend();"
   ]
  },
  {
   "cell_type": "markdown",
   "metadata": {},
   "source": [
    "Здесь картина интереснее: нет заметной связи между данными параметрами, примерно каждый 3-4 клиент из группы с 1 товаром банка, каждый 12-ый из группы с 2-мя товарами, а в группах с 3-мя и 4-мя и вовсе бОльшая часть (но выборка для таких групп мала)."
   ]
  },
  {
   "cell_type": "code",
   "execution_count": 598,
   "metadata": {},
   "outputs": [
    {
     "data": {
      "image/png": "[encoded data removed]",
      "text/plain": [
       "<Figure size 576x288 with 1 Axes>"
      ]
     },
     "metadata": {},
     "output_type": "display_data"
    }
   ],
   "source": [
    "#разделим столбец о \"факте ухода клиента\" в зависимости от возраста клиента\n",
    "age_exited_0=df[df.exited==0].age\n",
    "age_exited_1=df[df.exited==1].age\n",
    "\n",
    "#построим график\n",
    "plt.figure(figsize=(8, 4), facecolor='lightgrey')\n",
    "plt.xlabel('Age')\n",
    "plt.ylabel('Number of Customers Exited')\n",
    "plt.title('Bank Customer Churn prediction (Age vs Exited)')\n",
    "plt.hist([age_exited_0, age_exited_1], label=['NotExited', 'Exited']);\n",
    "plt.grid(True, linestyle='--', color='green')\n",
    "plt.legend();"
   ]
  },
  {
   "cell_type": "markdown",
   "metadata": {},
   "source": [
    "Большинство клиентов банка это люди среднего возраста (25-45), но уходит чаще возрастная страта 35-55). Одназначных выводов из этого сделать нельзя, необходимо строить модель."
   ]
  },
  {
   "cell_type": "code",
   "execution_count": 599,
   "metadata": {},
   "outputs": [
    {
     "data": {
      "image/png": "[encoded data removed]",
      "text/plain": [
       "<Figure size 576x288 with 1 Axes>"
      ]
     },
     "metadata": {},
     "output_type": "display_data"
    }
   ],
   "source": [
    "#разделим столбец о \"факте ухода клиента\" в зависимости от пола клиента\n",
    "gender_exited_0=df[df.exited==0].gender\n",
    "gender_exited_1=df[df.exited==1].gender\n",
    "\n",
    "#построим график\n",
    "plt.figure(figsize=(8, 4), facecolor='lightgrey')\n",
    "plt.xlabel('Gender')\n",
    "plt.ylabel('Number of Customers Exited')\n",
    "plt.title('Bank Customer Churn prediction (Gender vs Exited)')\n",
    "plt.hist([gender_exited_0, gender_exited_1], label=['NotExited', 'Exited']);\n",
    "plt.grid(True, linestyle='--', color='green')\n",
    "plt.legend();"
   ]
  },
  {
   "cell_type": "markdown",
   "metadata": {},
   "source": [
    "Женщины в среднем чаще уходили из банка чем мужчины. :("
   ]
  },
  {
   "cell_type": "markdown",
   "metadata": {},
   "source": [
    "### Выводы"
   ]
  },
  {
   "cell_type": "markdown",
   "metadata": {},
   "source": [
    "    Краткий вывод: Однозначных и прямых зависимостей не обнаружено, заметили что женщины уходят чаще, и люди в возрастной группе 35-55. Необходимо дополнительное исследование для поиска взаимосвязей.\n",
    "    Так же заметен дисбаланс в классах."
   ]
  },
  {
   "cell_type": "markdown",
   "metadata": {},
   "source": [
    "## Исследование задачи"
   ]
  },
  {
   "cell_type": "markdown",
   "metadata": {},
   "source": [
    "### Получение выборок для построения моделей"
   ]
  },
  {
   "cell_type": "code",
   "execution_count": 600,
   "metadata": {},
   "outputs": [],
   "source": [
    "#разделим датасет на признаки и выделим целевой  признак\n",
    "features = df.drop(columns=['exited'])\n",
    "target = df['exited']"
   ]
  },
  {
   "cell_type": "code",
   "execution_count": 601,
   "metadata": {},
   "outputs": [],
   "source": [
    "#разделим на тренировочную и остальную, остальную в свою очередь разделим на валидационную и тестовую\n",
    "features_train, features_remain, target_train, target_remain = train_test_split(\n",
    "    features,\n",
    "    target,\n",
    "    test_size=0.3,\n",
    "    random_state=12345,\n",
    "    stratify=target\n",
    ")"
   ]
  },
  {
   "cell_type": "code",
   "execution_count": 602,
   "metadata": {},
   "outputs": [
    {
     "data": {
      "text/plain": [
       "((7000, 12), (3000, 12), (7000,), (3000,))"
      ]
     },
     "execution_count": 602,
     "metadata": {},
     "output_type": "execute_result"
    }
   ],
   "source": [
    "#проконтролируем размеры полученных выборок\n",
    "features_train.shape, features_remain.shape, target_train.shape, target_remain.shape"
   ]
  },
  {
   "cell_type": "code",
   "execution_count": 603,
   "metadata": {},
   "outputs": [],
   "source": [
    "#разделим на валидационную и тестовую выборки\n",
    "features_valid, features_test, target_valid, target_test = train_test_split(\n",
    "    features_remain,\n",
    "    target_remain,\n",
    "    test_size=0.5,\n",
    "    random_state=12345,\n",
    "    stratify=target_remain\n",
    ")"
   ]
  },
  {
   "cell_type": "code",
   "execution_count": 604,
   "metadata": {},
   "outputs": [
    {
     "data": {
      "text/plain": [
       "((1500, 12), (1500, 12), (1500,), (1500,))"
      ]
     },
     "execution_count": 604,
     "metadata": {},
     "output_type": "execute_result"
    }
   ],
   "source": [
    "features_valid.shape, features_test.shape, target_valid.shape, target_test.shape"
   ]
  },
  {
   "cell_type": "markdown",
   "metadata": {},
   "source": [
    "В итоге получили соотношения выборок 70% / 15% / 15%."
   ]
  },
  {
   "cell_type": "code",
   "execution_count": 605,
   "metadata": {},
   "outputs": [],
   "source": [
    "##переменная для масштабирования\n",
    "#scaler = StandardScaler()\n",
    "##обучаем на тренировочной выборке\n",
    "#scaler.fit(features_train)\n",
    "##преобразовываем (стандартизируем)\n",
    "#features_train = scaler.transform(features_train)\n",
    "#features_valid = scaler.transform(features_valid)\n",
    "#features_test = scaler.transform(features_test)"
   ]
  },
  {
   "cell_type": "code",
   "execution_count": 606,
   "metadata": {},
   "outputs": [],
   "source": [
    "numeric = ['credit_score', 'age', 'tenure', 'balance', 'estimated_salary']\n",
    "scaler = StandardScaler()\n",
    "scaler.fit(features_train[numeric])\n",
    "features_train[numeric] = scaler.transform(features_train[numeric])\n",
    "features_valid[numeric] = scaler.transform(features_valid[numeric])\n",
    "features_test[numeric] = scaler.transform(features_test[numeric])"
   ]
  },
  {
   "cell_type": "markdown",
   "metadata": {},
   "source": [
    "### Построение моделей и поиск лучшей"
   ]
  },
  {
   "cell_type": "markdown",
   "metadata": {},
   "source": [
    "#### DecisionTree"
   ]
  },
  {
   "cell_type": "code",
   "execution_count": 607,
   "metadata": {},
   "outputs": [
    {
     "name": "stdout",
     "output_type": "stream",
     "text": [
      "CPU times: user 9.62 s, sys: 5.96 ms, total: 9.62 s\n",
      "\n",
      "Wall time: 9.64 s\n"
     ]
    }
   ],
   "source": [
    "%%time\n",
    "best_model_tree = None\n",
    "scoring_DT = 0\n",
    "for depth in range(1, 31):\n",
    "    for leaf in range(1, 31):\n",
    "        model_tree = DecisionTreeClassifier(\n",
    "            random_state=12345,\n",
    "            max_depth=depth,\n",
    "            min_samples_leaf=leaf,\n",
    "            #max_features='sqrt'\n",
    "        )\n",
    "        model_tree.fit(features_train, target_train)\n",
    "        predict_tree = model_tree.predict(features_valid)\n",
    "        \n",
    "        f1_counter = f1_score(target_valid, predict_tree)\n",
    "        #f1_score_list.append(f1_counter)\n",
    "        if f1_counter > scoring_DT:\n",
    "            best_model_tree = model_tree\n",
    "            scoring_DT = f1_counter"
   ]
  },
  {
   "cell_type": "markdown",
   "metadata": {},
   "source": [
    "<div class=\"alert alert-info\">\n",
    "<h2> Комментарий студента <a class=\"tocSkip\"> </h2>\n",
    "    \n",
    "Создал список для построения графика зависимости качества от глубины, график убрал, а список нет :D\n",
    "    \n",
    "Закомментировал.\n",
    "\n",
    "</div>"
   ]
  },
  {
   "cell_type": "code",
   "execution_count": 608,
   "metadata": {
    "scrolled": true
   },
   "outputs": [
    {
     "data": {
      "text/plain": [
       "(0.5732217573221757,\n",
       " DecisionTreeClassifier(max_depth=6, min_samples_leaf=12, random_state=12345))"
      ]
     },
     "execution_count": 608,
     "metadata": {},
     "output_type": "execute_result"
    }
   ],
   "source": [
    "#лучший f1 показатель для модели DT и лучшая модель DT с гиперпараметрами\n",
    "scoring_DT, best_model_tree"
   ]
  },
  {
   "cell_type": "code",
   "execution_count": 609,
   "metadata": {},
   "outputs": [
    {
     "data": {
      "image/png": "[encoded data removed]",
      "text/plain": [
       "<Figure size 2520x1440 with 1 Axes>"
      ]
     },
     "metadata": {},
     "output_type": "display_data"
    }
   ],
   "source": [
    "#задаем размеры картинки/графика\n",
    "fig = plt.figure(figsize=(35,20))\n",
    "#строим сам график\n",
    "plot_tree(\n",
    "    best_model_tree,\n",
    "    feature_names=features.columns.values,\n",
    "    class_names=['0','1'],\n",
    "    filled=True, fontsize = 15,\n",
    "    max_depth = 3,\n",
    ");"
   ]
  },
  {
   "cell_type": "markdown",
   "metadata": {
    "jp-MarkdownHeadingCollapsed": true,
    "jupyter": {
     "source_hidden": true
    },
    "tags": []
   },
   "source": [
    "<div class=\"alert alert-info\">\n",
    "<h2> Комментарий студента <a class=\"tocSkip\"> </h2>\n",
    "    \n",
    "ROC-AUC для DT\n",
    "\n",
    "</div>"
   ]
  },
  {
   "cell_type": "code",
   "execution_count": 610,
   "metadata": {},
   "outputs": [
    {
     "data": {
      "text/plain": [
       "0.8369092192991099"
      ]
     },
     "execution_count": 610,
     "metadata": {},
     "output_type": "execute_result"
    }
   ],
   "source": [
    "probabilities_valid = best_model_tree.predict_proba(features_valid)\n",
    "probabilities_one_valid = probabilities_valid[:, 1]\n",
    "\n",
    "fpr, tpr, thresholds = roc_curve(target_valid, probabilities_one_valid)\n",
    "\n",
    "roc_auc_score(target_valid, probabilities_one_valid)"
   ]
  },
  {
   "cell_type": "code",
   "execution_count": 611,
   "metadata": {},
   "outputs": [
    {
     "data": {
      "image/png": "[encoded data removed]",
      "text/plain": [
       "<Figure size 432x288 with 1 Axes>"
      ]
     },
     "metadata": {},
     "output_type": "display_data"
    }
   ],
   "source": [
    "plt.figure()\n",
    "plt.plot(fpr, tpr)\n",
    "# ROC-кривая случайной модели (выглядит как прямая)\n",
    "plt.plot([0, 1], [0, 1], linestyle='--')\n",
    "plt.grid(True, linestyle=':', color='green')\n",
    "#границы осей\n",
    "plt.xlim(0, 1)\n",
    "plt.ylim(0, 1)\n",
    "\n",
    "#подписываем оси\n",
    "plt.xlabel('False Positive Rate')\n",
    "plt.ylabel('True Positive Rate')\n",
    "\n",
    "plt.title('ROC-кривая');"
   ]
  },
  {
   "cell_type": "markdown",
   "metadata": {},
   "source": [
    "#### RandomForest"
   ]
  },
  {
   "cell_type": "code",
   "execution_count": 612,
   "metadata": {
    "scrolled": true
   },
   "outputs": [
    {
     "name": "stderr",
     "output_type": "stream",
     "text": [
      "100%|██████████| 4/4 [05:49<00:00, 87.45s/it]\n"
     ]
    }
   ],
   "source": [
    "best_model_forest = None\n",
    "f1_score_forest = 0\n",
    "    \n",
    "for est in tqdm(range(50, 160, 30)):\n",
    "    for depth in range(1, 20):\n",
    "        for sample in range(2, 5):\n",
    "            for leaf in range(2, 5):\n",
    "                model_forest = RandomForestClassifier(\n",
    "                    random_state=12345,\n",
    "                    n_estimators=est,\n",
    "                    max_depth=depth,\n",
    "                    min_samples_split=sample,\n",
    "                    min_samples_leaf=leaf)\n",
    "                model_forest.fit(features_train, target_train)\n",
    "                predict_forest = model_forest.predict(features_valid)\n",
    "                \n",
    "                f1_counter = f1_score(target_valid, predict_forest)\n",
    "                \n",
    "                if f1_counter > f1_score_forest:\n",
    "                    best_model_forest = model_forest\n",
    "                    f1_score_forest = f1_counter"
   ]
  },
  {
   "cell_type": "code",
   "execution_count": 613,
   "metadata": {},
   "outputs": [
    {
     "data": {
      "text/plain": [
       "(RandomForestClassifier(max_depth=15, min_samples_leaf=2, n_estimators=140,\n",
       "                        random_state=12345),\n",
       " 0.5862785862785862)"
      ]
     },
     "execution_count": 613,
     "metadata": {},
     "output_type": "execute_result"
    }
   ],
   "source": [
    "#лучшая модель RF с гиперпараметрами и лучший f1 показатель для модели RF\n",
    "best_model_forest, f1_score_forest"
   ]
  },
  {
   "cell_type": "markdown",
   "metadata": {},
   "source": [
    "<div class=\"alert alert-info\">\n",
    "<h2> Комментарий студента <a class=\"tocSkip\"> </h2>\n",
    "    \n",
    "ROC-AUC RF\n",
    "\n",
    "</div>"
   ]
  },
  {
   "cell_type": "code",
   "execution_count": 614,
   "metadata": {},
   "outputs": [
    {
     "data": {
      "text/plain": [
       "0.8612178539757611"
      ]
     },
     "execution_count": 614,
     "metadata": {},
     "output_type": "execute_result"
    }
   ],
   "source": [
    "probabilities_valid = best_model_forest.predict_proba(features_valid)\n",
    "probabilities_one_valid = probabilities_valid[:, 1]\n",
    "\n",
    "fpr, tpr, thresholds = roc_curve(target_valid, probabilities_one_valid)\n",
    "\n",
    "roc_auc_score(target_valid, probabilities_one_valid)"
   ]
  },
  {
   "cell_type": "code",
   "execution_count": 615,
   "metadata": {},
   "outputs": [
    {
     "data": {
      "image/png": "[encoded data removed]",
      "text/plain": [
       "<Figure size 432x288 with 1 Axes>"
      ]
     },
     "metadata": {},
     "output_type": "display_data"
    }
   ],
   "source": [
    "plt.figure()\n",
    "plt.plot(fpr, tpr)\n",
    "# ROC-кривая случайной модели (выглядит как прямая)\n",
    "plt.plot([0, 1], [0, 1], linestyle='--')\n",
    "plt.grid(True, linestyle=':', color='green')\n",
    "#границы осей\n",
    "plt.xlim(0, 1)\n",
    "plt.ylim(0, 1)\n",
    "\n",
    "#подписываем оси\n",
    "plt.xlabel('False Positive Rate')\n",
    "plt.ylabel('True Positive Rate')\n",
    "\n",
    "plt.title('ROC-кривая');"
   ]
  },
  {
   "cell_type": "markdown",
   "metadata": {},
   "source": [
    "#### LogisticRegression"
   ]
  },
  {
   "cell_type": "code",
   "execution_count": 616,
   "metadata": {},
   "outputs": [
    {
     "name": "stderr",
     "output_type": "stream",
     "text": [
      "100%|██████████| 10/10 [00:06<00:00,  1.51it/s]"
     ]
    },
    {
     "name": "stdout",
     "output_type": "stream",
     "text": [
      "CPU times: user 2.98 s, sys: 3.62 s, total: 6.6 s\n",
      "\n",
      "Wall time: 6.63 s\n"
     ]
    },
    {
     "name": "stderr",
     "output_type": "stream",
     "text": [
      "\n"
     ]
    }
   ],
   "source": [
    "%%time\n",
    "#импортировал фильтр уведомлений/предупреждений))\n",
    "warnings.filterwarnings('ignore')\n",
    "\n",
    "best_model_log_reg = None\n",
    "iter_log_reg = 0\n",
    "f1_logistic = 0\n",
    "for i in tqdm(range(100, 10000, 1000)):\n",
    "    model_log_reg = LogisticRegression(\n",
    "        random_state=12345,\n",
    "        #solver=liblinear или solver=lbfgs показали результаты хуже\n",
    "        solver='newton-cg',\n",
    "        max_iter=i,)\n",
    "    model_log_reg.fit(features_train, target_train)\n",
    "    predict_log_reg = model_log_reg.predict(features_valid)\n",
    "    #acc_log_reg = accuracy_score(target_valid, predict_log_reg)\n",
    "    f1_log_reg = f1_score(target_valid, predict_log_reg)\n",
    "    if f1_log_reg > f1_logistic:\n",
    "        best_model_log_reg = model_log_reg\n",
    "        iter_log_reg = i\n",
    "        f1_logistic = f1_log_reg"
   ]
  },
  {
   "cell_type": "code",
   "execution_count": 617,
   "metadata": {},
   "outputs": [],
   "source": [
    "import numpy as np"
   ]
  },
  {
   "cell_type": "code",
   "execution_count": 618,
   "metadata": {},
   "outputs": [
    {
     "name": "stderr",
     "output_type": "stream",
     "text": [
      "100%|██████████| 10/10 [00:41<00:00,  4.18s/it]"
     ]
    },
    {
     "name": "stdout",
     "output_type": "stream",
     "text": [
      "CPU times: user 19.3 s, sys: 22.5 s, total: 41.8 s\n",
      "\n",
      "Wall time: 41.9 s\n"
     ]
    },
    {
     "name": "stderr",
     "output_type": "stream",
     "text": [
      "\n"
     ]
    }
   ],
   "source": [
    "%%time\n",
    "#импортировал фильтр уведомлений/предупреждений))\n",
    "warnings.filterwarnings('ignore')\n",
    "\n",
    "best_model_log_reg = None\n",
    "iter_log_reg = 0\n",
    "f1_logistic = 0\n",
    "for i in tqdm(range(100, 10000, 1000)):\n",
    "    for c in np.arange(0.1, 1.1, 0.1):\n",
    "        model_log_reg = LogisticRegression(\n",
    "            random_state=12345,\n",
    "            #solver=liblinear или solver=newton-cg показали результаты идентичные\n",
    "            solver='lbfgs',\n",
    "            max_iter=i,\n",
    "            C=c)\n",
    "        model_log_reg.fit(features_train, target_train)\n",
    "        predict_log_reg = model_log_reg.predict(features_valid)\n",
    "        #acc_log_reg = accuracy_score(target_valid, predict_log_reg)\n",
    "        f1_log_reg = f1_score(target_valid, predict_log_reg)\n",
    "        if f1_log_reg > f1_logistic:\n",
    "            best_model_log_reg = model_log_reg\n",
    "            iter_log_reg = i\n",
    "            f1_logistic = f1_log_reg"
   ]
  },
  {
   "cell_type": "code",
   "execution_count": 619,
   "metadata": {},
   "outputs": [
    {
     "data": {
      "text/plain": [
       "(LogisticRegression(C=0.6, random_state=12345), 0.25316455696202533)"
      ]
     },
     "execution_count": 619,
     "metadata": {},
     "output_type": "execute_result"
    }
   ],
   "source": [
    "#лучшая модель LR  и ее показатель f1-меры\n",
    "best_model_log_reg, f1_logistic"
   ]
  },
  {
   "cell_type": "markdown",
   "metadata": {},
   "source": [
    "<div class=\"alert alert-info\">\n",
    "<h2> Комментарий студента <a class=\"tocSkip\"> </h2>\n",
    "    \n",
    "ROC-AUC LR\n",
    "\n",
    "</div>"
   ]
  },
  {
   "cell_type": "code",
   "execution_count": 620,
   "metadata": {},
   "outputs": [
    {
     "data": {
      "text/plain": [
       "0.7716688015239597"
      ]
     },
     "execution_count": 620,
     "metadata": {},
     "output_type": "execute_result"
    }
   ],
   "source": [
    "probabilities_valid = best_model_log_reg.predict_proba(features_valid)\n",
    "probabilities_one_valid = probabilities_valid[:, 1]\n",
    "\n",
    "fpr, tpr, thresholds = roc_curve(target_valid, probabilities_one_valid)\n",
    "\n",
    "roc_auc_score(target_valid, probabilities_one_valid)"
   ]
  },
  {
   "cell_type": "code",
   "execution_count": 621,
   "metadata": {},
   "outputs": [
    {
     "data": {
      "image/png": "[encoded data removed]",
      "text/plain": [
       "<Figure size 432x288 with 1 Axes>"
      ]
     },
     "metadata": {},
     "output_type": "display_data"
    }
   ],
   "source": [
    "plt.figure()\n",
    "plt.plot(fpr, tpr)\n",
    "# ROC-кривая случайной модели (выглядит как прямая)\n",
    "plt.plot([0, 1], [0, 1], linestyle='--')\n",
    "plt.grid(True, linestyle=':', color='green')\n",
    "#границы осей\n",
    "plt.xlim(0, 1)\n",
    "plt.ylim(0, 1)\n",
    "\n",
    "#подписываем оси\n",
    "plt.xlabel('False Positive Rate')\n",
    "plt.ylabel('True Positive Rate')\n",
    "\n",
    "plt.title('ROC-кривая');"
   ]
  },
  {
   "cell_type": "markdown",
   "metadata": {},
   "source": [
    "### Выводы"
   ]
  },
  {
   "cell_type": "markdown",
   "metadata": {},
   "source": [
    "    Краткий вывод: как видно из результатов, ни одна модель не показала необходимый минимум F1-меры в 0.59.\n",
    "    DT - 0.573\n",
    "    RF - 0.586\n",
    "    LR - 0.253\n",
    "    \n",
    "    Сказывается дисбаланс в данных, в чем в дальнейшем и займемся."
   ]
  },
  {
   "cell_type": "markdown",
   "metadata": {},
   "source": [
    "## Борьба с дисбалансом"
   ]
  },
  {
   "cell_type": "code",
   "execution_count": 622,
   "metadata": {},
   "outputs": [
    {
     "data": {
      "text/plain": [
       "3.9091801669121256"
      ]
     },
     "execution_count": 622,
     "metadata": {},
     "output_type": "execute_result"
    }
   ],
   "source": [
    "#посчитаем дисбаланс в целевом признаке, на который и будем ориентироваться\n",
    "df['exited'].value_counts()[0] / df['exited'].value_counts()[1]"
   ]
  },
  {
   "cell_type": "markdown",
   "metadata": {},
   "source": [
    "### Upsampling"
   ]
  },
  {
   "cell_type": "code",
   "execution_count": 623,
   "metadata": {},
   "outputs": [],
   "source": [
    "#напишем функцию для upsampling'а\n",
    "def upsample(features, target, repeat):\n",
    "    features_zeros = features[target == 0]\n",
    "    features_ones = features[target == 1]\n",
    "    target_zeros = target[target == 0]\n",
    "    target_ones = target[target == 1]\n",
    "    \n",
    "    features_upsampled = pd.concat([features_zeros] + [features_ones]*repeat)\n",
    "    target_upsampled = pd.concat([target_zeros] + [target_ones]*repeat)\n",
    "    \n",
    "    features_upsampled, target_upsampled = shuffle(\n",
    "        features_upsampled,\n",
    "        target_upsampled,\n",
    "        random_state=12345,\n",
    "    )\n",
    "    \n",
    "    return features_upsampled, target_upsampled"
   ]
  },
  {
   "cell_type": "code",
   "execution_count": 624,
   "metadata": {
    "scrolled": true
   },
   "outputs": [],
   "source": [
    "#апсемплинг данных\n",
    "features_upsampled, target_upsampled = upsample(features_train, target_train, 4)"
   ]
  },
  {
   "cell_type": "markdown",
   "metadata": {},
   "source": [
    "#### DecisionTree"
   ]
  },
  {
   "cell_type": "code",
   "execution_count": 625,
   "metadata": {},
   "outputs": [
    {
     "name": "stdout",
     "output_type": "stream",
     "text": [
      "CPU times: user 12.7 s, sys: 17.1 ms, total: 12.7 s\n",
      "\n",
      "Wall time: 12.7 s\n"
     ]
    }
   ],
   "source": [
    "%%time\n",
    "best_model_tree1 = None\n",
    "scoring_DT1 = 0\n",
    "for depth in range(1, 21):\n",
    "    for leaf in range(1, 21):\n",
    "        model_tree = DecisionTreeClassifier(\n",
    "            random_state=12345,\n",
    "            max_depth=depth,\n",
    "            min_samples_leaf=leaf,\n",
    "            #max_features='sqrt'\n",
    "        )\n",
    "        model_tree.fit(features_upsampled, target_upsampled)\n",
    "        predict_tree = model_tree.predict(features_valid)\n",
    "        \n",
    "        f1_counter = f1_score(target_valid, predict_tree)\n",
    "        f1_score_list1.append(f1_counter)\n",
    "        if f1_counter > scoring_DT1:\n",
    "            best_model_tree1 = model_tree\n",
    "            scoring_DT1 = f1_counter"
   ]
  },
  {
   "cell_type": "code",
   "execution_count": 626,
   "metadata": {},
   "outputs": [
    {
     "data": {
      "text/plain": [
       "(0.5905292479108635,\n",
       " DecisionTreeClassifier(max_depth=10, min_samples_leaf=10, random_state=12345))"
      ]
     },
     "execution_count": 626,
     "metadata": {},
     "output_type": "execute_result"
    }
   ],
   "source": [
    "#лучший показаль для модели DT и лучшая модель DT с гиперпараметрами\n",
    "scoring_DT1, best_model_tree1"
   ]
  },
  {
   "cell_type": "markdown",
   "metadata": {},
   "source": [
    "<div class=\"alert alert-info\">\n",
    "<h2> Комментарий студента <a class=\"tocSkip\"> </h2>\n",
    "ROC-AUC DT upsampled\n",
    "\n",
    "</div>"
   ]
  },
  {
   "cell_type": "code",
   "execution_count": 627,
   "metadata": {},
   "outputs": [
    {
     "data": {
      "text/plain": [
       "0.8042185327509005"
      ]
     },
     "execution_count": 627,
     "metadata": {},
     "output_type": "execute_result"
    }
   ],
   "source": [
    "probabilities_valid = best_model_tree1.predict_proba(features_valid)\n",
    "probabilities_one_valid = probabilities_valid[:, 1]\n",
    "\n",
    "fpr, tpr, thresholds = roc_curve(target_valid, probabilities_one_valid)\n",
    "\n",
    "roc_auc_score(target_valid, probabilities_one_valid)"
   ]
  },
  {
   "cell_type": "code",
   "execution_count": 628,
   "metadata": {},
   "outputs": [
    {
     "data": {
      "image/png": "[encoded data removed]",
      "text/plain": [
       "<Figure size 432x288 with 1 Axes>"
      ]
     },
     "metadata": {},
     "output_type": "display_data"
    }
   ],
   "source": [
    "plt.figure()\n",
    "plt.plot(fpr, tpr)\n",
    "# ROC-кривая случайной модели (выглядит как прямая)\n",
    "plt.plot([0, 1], [0, 1], linestyle='--')\n",
    "plt.grid(True, linestyle=':', color='green')\n",
    "#границы осей\n",
    "plt.xlim(0, 1)\n",
    "plt.ylim(0, 1)\n",
    "\n",
    "#подписываем оси\n",
    "plt.xlabel('False Positive Rate')\n",
    "plt.ylabel('True Positive Rate')\n",
    "\n",
    "plt.title('ROC-кривая');"
   ]
  },
  {
   "cell_type": "markdown",
   "metadata": {},
   "source": [
    "#### RandomForest"
   ]
  },
  {
   "cell_type": "code",
   "execution_count": 629,
   "metadata": {},
   "outputs": [
    {
     "name": "stderr",
     "output_type": "stream",
     "text": [
      "100%|██████████| 4/4 [01:05<00:00, 16.37s/it]\n"
     ]
    }
   ],
   "source": [
    "best_model_forest1 = None\n",
    "f1_score_forest1 = 0\n",
    "    \n",
    "for est in tqdm(range(50, 160, 30)):\n",
    "    for depth in range(1, 11):\n",
    "            for leaf in range(2, 5):\n",
    "                model_forest = RandomForestClassifier(\n",
    "                    random_state=12345,\n",
    "                    n_estimators=est,\n",
    "                    max_depth=depth,\n",
    "                    min_samples_leaf=leaf)\n",
    "                model_forest.fit(features_upsampled, target_upsampled)\n",
    "                predict_forest = model_forest.predict(features_valid)\n",
    "                \n",
    "                f1_counter = f1_score(target_valid, predict_forest)\n",
    "                \n",
    "                if f1_counter > f1_score_forest:\n",
    "                    best_model_forest1 = model_forest\n",
    "                    f1_score_forest1 = f1_counter"
   ]
  },
  {
   "cell_type": "code",
   "execution_count": 630,
   "metadata": {},
   "outputs": [
    {
     "data": {
      "text/plain": [
       "(RandomForestClassifier(max_depth=10, min_samples_leaf=4, n_estimators=140,\n",
       "                        random_state=12345),\n",
       " 0.6180758017492711)"
      ]
     },
     "execution_count": 630,
     "metadata": {},
     "output_type": "execute_result"
    }
   ],
   "source": [
    "#лучшая модель RF с гиперпараметрами и лучший f1 показатель для модели RF после upsampling'a\n",
    "best_model_forest1, f1_score_forest1"
   ]
  },
  {
   "cell_type": "markdown",
   "metadata": {},
   "source": [
    "<div class=\"alert alert-info\">\n",
    "<h2> Комментарий студента <a class=\"tocSkip\"> </h2>\n",
    "ROC-AUC RF upsampled\n",
    "\n",
    "</div>"
   ]
  },
  {
   "cell_type": "code",
   "execution_count": 631,
   "metadata": {},
   "outputs": [
    {
     "data": {
      "text/plain": [
       "0.8673706221740511"
      ]
     },
     "execution_count": 631,
     "metadata": {},
     "output_type": "execute_result"
    }
   ],
   "source": [
    "probabilities_valid = best_model_forest1.predict_proba(features_valid)\n",
    "probabilities_one_valid = probabilities_valid[:, 1]\n",
    "\n",
    "fpr, tpr, thresholds = roc_curve(target_valid, probabilities_one_valid)\n",
    "\n",
    "roc_auc_score(target_valid, probabilities_one_valid)"
   ]
  },
  {
   "cell_type": "code",
   "execution_count": 632,
   "metadata": {},
   "outputs": [
    {
     "data": {
      "image/png": "[encoded data removed]",
      "text/plain": [
       "<Figure size 432x288 with 1 Axes>"
      ]
     },
     "metadata": {},
     "output_type": "display_data"
    }
   ],
   "source": [
    "plt.figure()\n",
    "plt.plot(fpr, tpr)\n",
    "# ROC-кривая случайной модели (выглядит как прямая)\n",
    "plt.plot([0, 1], [0, 1], linestyle='--')\n",
    "plt.grid(True, linestyle=':', color='green')\n",
    "#границы осей\n",
    "plt.xlim(0, 1)\n",
    "plt.ylim(0, 1)\n",
    "\n",
    "#подписываем оси\n",
    "plt.xlabel('False Positive Rate')\n",
    "plt.ylabel('True Positive Rate')\n",
    "\n",
    "plt.title('ROC-кривая');"
   ]
  },
  {
   "cell_type": "markdown",
   "metadata": {},
   "source": [
    "#### LogisticRegression"
   ]
  },
  {
   "cell_type": "code",
   "execution_count": 633,
   "metadata": {
    "scrolled": true
   },
   "outputs": [
    {
     "name": "stderr",
     "output_type": "stream",
     "text": [
      "100%|██████████| 10/10 [00:08<00:00,  1.16it/s]\n"
     ]
    }
   ],
   "source": [
    "best_model_log_reg1 = None\n",
    "f1_logistic1 = 0\n",
    "for i in tqdm(range(100, 10000, 1000)):\n",
    "    model_log_reg = LogisticRegression(\n",
    "        random_state=12345,\n",
    "        #solver='liblinear' или solver='lbfgs', показали результаты хуже\n",
    "        solver='newton-cg',\n",
    "        max_iter=i,)\n",
    "    model_log_reg.fit(features_upsampled, target_upsampled)\n",
    "    \n",
    "    predict_log_reg = model_log_reg.predict(features_valid)\n",
    "    f1_log_reg = f1_score(target_valid, predict_log_reg)\n",
    "    \n",
    "    if f1_log_reg > f1_logistic1:\n",
    "        best_model_log_reg1 = model_log_reg\n",
    "        f1_logistic1 = f1_log_reg"
   ]
  },
  {
   "cell_type": "code",
   "execution_count": 634,
   "metadata": {},
   "outputs": [
    {
     "data": {
      "text/plain": [
       "(LogisticRegression(random_state=12345, solver='newton-cg'), 0.511520737327189)"
      ]
     },
     "execution_count": 634,
     "metadata": {},
     "output_type": "execute_result"
    }
   ],
   "source": [
    "#лучшая модель LR  и ее показатель f1-меры после upsampling'a\n",
    "best_model_log_reg1, f1_logistic1"
   ]
  },
  {
   "cell_type": "markdown",
   "metadata": {},
   "source": [
    "<div class=\"alert alert-info\">\n",
    "<h2> Комментарий студента <a class=\"tocSkip\"> </h2>\n",
    "ROC-AUC LR upsampled\n",
    "\n",
    "</div>"
   ]
  },
  {
   "cell_type": "code",
   "execution_count": 635,
   "metadata": {},
   "outputs": [
    {
     "data": {
      "text/plain": [
       "0.7793241808169385"
      ]
     },
     "execution_count": 635,
     "metadata": {},
     "output_type": "execute_result"
    }
   ],
   "source": [
    "probabilities_valid = best_model_log_reg1.predict_proba(features_valid)\n",
    "probabilities_one_valid = probabilities_valid[:, 1]\n",
    "\n",
    "fpr, tpr, thresholds = roc_curve(target_valid, probabilities_one_valid)\n",
    "\n",
    "roc_auc_score(target_valid, probabilities_one_valid)"
   ]
  },
  {
   "cell_type": "code",
   "execution_count": 636,
   "metadata": {},
   "outputs": [
    {
     "data": {
      "image/png": "[encoded data removed]",
      "text/plain": [
       "<Figure size 432x288 with 1 Axes>"
      ]
     },
     "metadata": {},
     "output_type": "display_data"
    }
   ],
   "source": [
    "plt.figure()\n",
    "plt.plot(fpr, tpr)\n",
    "# ROC-кривая случайной модели (выглядит как прямая)\n",
    "plt.plot([0, 1], [0, 1], linestyle='--')\n",
    "plt.grid(True, linestyle=':', color='green')\n",
    "#границы осей\n",
    "plt.xlim(0, 1)\n",
    "plt.ylim(0, 1)\n",
    "\n",
    "#подписываем оси\n",
    "plt.xlabel('False Positive Rate')\n",
    "plt.ylabel('True Positive Rate')\n",
    "\n",
    "plt.title('ROC-кривая');"
   ]
  },
  {
   "cell_type": "markdown",
   "metadata": {},
   "source": [
    "#### Выводы"
   ]
  },
  {
   "cell_type": "markdown",
   "metadata": {},
   "source": [
    "    Краткий вывод: как видно из результатов, все модели показали необходимый минимум F1-меры в 0.59:\n",
    "    DT - 0.591\n",
    "    RF - 0.618\n",
    "    LR - 0.515"
   ]
  },
  {
   "cell_type": "markdown",
   "metadata": {},
   "source": [
    "<div class=\"alert alert-info\">\n",
    "<h2> Комментарий студента <a class=\"tocSkip\"> </h2>\n",
    "\n",
    "Дополнительный вывод после добавления ROC-AUC.\n",
    "    \n",
    "При значении в 0.5 и построении ROC-кривой видно что модель не значительно отличается от константной модели. \n",
    "При значении в 0.........\n",
    "</div>"
   ]
  },
  {
   "cell_type": "markdown",
   "metadata": {},
   "source": [
    "### Downsampling"
   ]
  },
  {
   "cell_type": "code",
   "execution_count": 637,
   "metadata": {},
   "outputs": [],
   "source": [
    "#напишем функцию для downsampling'a\n",
    "def downsample(features, target, fraction):\n",
    "    features_zeros = features[target == 0]\n",
    "    features_ones = features[target == 1]\n",
    "    target_zeros = target[target == 0]\n",
    "    target_ones = target[target == 1]\n",
    "    \n",
    "    features_downsampled = pd.concat(\n",
    "        [features_zeros.sample(frac=fraction, random_state=12345)] +\n",
    "        [features_ones]\n",
    "    )\n",
    "    target_downsampled = pd.concat(\n",
    "        [target_zeros.sample(frac=fraction, random_state=12345)] +\n",
    "        [target_ones]\n",
    "    )\n",
    "    \n",
    "    features_downsampled, target_downsampled = shuffle(\n",
    "        features_downsampled,\n",
    "        target_downsampled,\n",
    "        random_state=12345,\n",
    "    )\n",
    "    \n",
    "    return features_downsampled, target_downsampled"
   ]
  },
  {
   "cell_type": "code",
   "execution_count": 638,
   "metadata": {},
   "outputs": [],
   "source": [
    "features_downsampled, target_downsampled = downsample(features_train, target_train, 0.25)"
   ]
  },
  {
   "cell_type": "markdown",
   "metadata": {},
   "source": [
    "#### DecisionTree"
   ]
  },
  {
   "cell_type": "code",
   "execution_count": 639,
   "metadata": {},
   "outputs": [
    {
     "name": "stderr",
     "output_type": "stream",
     "text": [
      "100%|██████████| 20/20 [00:04<00:00,  4.31it/s]"
     ]
    },
    {
     "name": "stdout",
     "output_type": "stream",
     "text": [
      "CPU times: user 4.56 s, sys: 21.7 ms, total: 4.58 s\n",
      "\n",
      "Wall time: 4.66 s\n"
     ]
    },
    {
     "name": "stderr",
     "output_type": "stream",
     "text": [
      "\n"
     ]
    }
   ],
   "source": [
    "%%time\n",
    "best_model_tree2 = None\n",
    "scoring_DT2 = 0\n",
    "\n",
    "for depth in tqdm(range(1, 21)):\n",
    "    for leaf in range(1, 21):\n",
    "        model_tree = DecisionTreeClassifier(\n",
    "            random_state=12345,\n",
    "            max_depth=depth,\n",
    "            min_samples_leaf=leaf,\n",
    "            #max_features='sqrt'\n",
    "        )\n",
    "        model_tree.fit(features_downsampled, target_downsampled)\n",
    "        predict_tree = model_tree.predict(features_valid)\n",
    "        \n",
    "        f1_counter = f1_score(target_valid, predict_tree)\n",
    "        if f1_counter > scoring_DT2:\n",
    "            best_model_tree2 = model_tree\n",
    "            scoring_DT2 = f1_counter"
   ]
  },
  {
   "cell_type": "code",
   "execution_count": 640,
   "metadata": {},
   "outputs": [
    {
     "data": {
      "text/plain": [
       "(DecisionTreeClassifier(max_depth=9, min_samples_leaf=13, random_state=12345),\n",
       " 0.5981554677206851)"
      ]
     },
     "execution_count": 640,
     "metadata": {},
     "output_type": "execute_result"
    }
   ],
   "source": [
    "#лучший показаль для модели DT и лучшая модель DT с гиперпараметрами после downsampling'a\n",
    "best_model_tree2, scoring_DT2"
   ]
  },
  {
   "cell_type": "markdown",
   "metadata": {},
   "source": [
    "<div class=\"alert alert-info\">\n",
    "<h2> Комментарий студента <a class=\"tocSkip\"> </h2>\n",
    "ROC-AUC RF downsampled\n",
    "\n",
    "</div>"
   ]
  },
  {
   "cell_type": "code",
   "execution_count": 641,
   "metadata": {},
   "outputs": [
    {
     "data": {
      "text/plain": [
       "0.8459139378811267"
      ]
     },
     "execution_count": 641,
     "metadata": {},
     "output_type": "execute_result"
    }
   ],
   "source": [
    "probabilities_valid = best_model_tree2.predict_proba(features_valid)\n",
    "probabilities_one_valid = probabilities_valid[:, 1]\n",
    "\n",
    "fpr, tpr, thresholds = roc_curve(target_valid, probabilities_one_valid)\n",
    "\n",
    "roc_auc_score(target_valid, probabilities_one_valid)"
   ]
  },
  {
   "cell_type": "code",
   "execution_count": 642,
   "metadata": {},
   "outputs": [
    {
     "data": {
      "image/png": "[encoded data removed]",
      "text/plain": [
       "<Figure size 432x288 with 1 Axes>"
      ]
     },
     "metadata": {},
     "output_type": "display_data"
    }
   ],
   "source": [
    "plt.figure()\n",
    "plt.plot(fpr, tpr)\n",
    "# ROC-кривая случайной модели (выглядит как прямая)\n",
    "plt.plot([0, 1], [0, 1], linestyle='--')\n",
    "plt.grid(True, linestyle=':', color='green')\n",
    "#границы осей\n",
    "plt.xlim(0, 1)\n",
    "plt.ylim(0, 1)\n",
    "\n",
    "#подписываем оси\n",
    "plt.xlabel('False Positive Rate')\n",
    "plt.ylabel('True Positive Rate')\n",
    "\n",
    "plt.title('ROC-кривая');"
   ]
  },
  {
   "cell_type": "markdown",
   "metadata": {},
   "source": [
    "#### RandomForest"
   ]
  },
  {
   "cell_type": "code",
   "execution_count": 643,
   "metadata": {},
   "outputs": [
    {
     "name": "stderr",
     "output_type": "stream",
     "text": [
      "100%|██████████| 4/4 [00:29<00:00,  7.34s/it]\n"
     ]
    }
   ],
   "source": [
    "best_model_forest2 = None\n",
    "f1_score_forest2 = 0\n",
    "\n",
    "for est in tqdm(range(50, 160, 30)):\n",
    "    for depth in range(1, 11):\n",
    "            for leaf in range(2, 5):\n",
    "                model_forest = RandomForestClassifier(\n",
    "                    random_state=12345,\n",
    "                    n_estimators=est,\n",
    "                    max_depth=depth,\n",
    "                    min_samples_leaf=leaf)\n",
    "                model_forest.fit(features_downsampled, target_downsampled)\n",
    "                predict_forest = model_forest.predict(features_valid)\n",
    "                \n",
    "                f1_counter = f1_score(target_valid, predict_forest)\n",
    "                \n",
    "                if f1_counter > f1_score_forest2:\n",
    "                    best_model_forest2 = model_forest\n",
    "                    f1_score_forest2 = f1_counter"
   ]
  },
  {
   "cell_type": "code",
   "execution_count": 644,
   "metadata": {},
   "outputs": [
    {
     "data": {
      "text/plain": [
       "(RandomForestClassifier(max_depth=7, min_samples_leaf=4, n_estimators=140,\n",
       "                        random_state=12345),\n",
       " 0.6159793814432989)"
      ]
     },
     "execution_count": 644,
     "metadata": {},
     "output_type": "execute_result"
    }
   ],
   "source": [
    "#лучшая модель RF с гиперпараметрами и лучший f1 показатель для модели RF после downsampling'a\n",
    "best_model_forest2, f1_score_forest2"
   ]
  },
  {
   "cell_type": "markdown",
   "metadata": {},
   "source": [
    "<div class=\"alert alert-info\">\n",
    "<h2> Комментарий студента <a class=\"tocSkip\"> </h2>\n",
    "ROC-AUC RF downsampled\n",
    "\n",
    "</div>"
   ]
  },
  {
   "cell_type": "code",
   "execution_count": 645,
   "metadata": {},
   "outputs": [
    {
     "data": {
      "text/plain": [
       "0.8638234746718341"
      ]
     },
     "execution_count": 645,
     "metadata": {},
     "output_type": "execute_result"
    }
   ],
   "source": [
    "probabilities_valid = best_model_forest2.predict_proba(features_valid)\n",
    "probabilities_one_valid = probabilities_valid[:, 1]\n",
    "\n",
    "fpr, tpr, thresholds = roc_curve(target_valid, probabilities_one_valid)\n",
    "\n",
    "roc_auc_score(target_valid, probabilities_one_valid)"
   ]
  },
  {
   "cell_type": "code",
   "execution_count": 646,
   "metadata": {},
   "outputs": [
    {
     "data": {
      "image/png": "[encoded data removed]",
      "text/plain": [
       "<Figure size 432x288 with 1 Axes>"
      ]
     },
     "metadata": {},
     "output_type": "display_data"
    }
   ],
   "source": [
    "plt.figure()\n",
    "plt.plot(fpr, tpr)\n",
    "# ROC-кривая случайной модели (выглядит как прямая)\n",
    "plt.plot([0, 1], [0, 1], linestyle='--')\n",
    "plt.grid(True, linestyle=':', color='green')\n",
    "#границы осей\n",
    "plt.xlim(0, 1)\n",
    "plt.ylim(0, 1)\n",
    "\n",
    "#подписываем оси\n",
    "plt.xlabel('False Positive Rate')\n",
    "plt.ylabel('True Positive Rate')\n",
    "\n",
    "plt.title('ROC-кривая');"
   ]
  },
  {
   "cell_type": "markdown",
   "metadata": {},
   "source": [
    "#### LogisticRegression"
   ]
  },
  {
   "cell_type": "code",
   "execution_count": 647,
   "metadata": {
    "scrolled": true
   },
   "outputs": [
    {
     "name": "stderr",
     "output_type": "stream",
     "text": [
      "100%|██████████| 10/10 [00:08<00:00,  1.17it/s]\n"
     ]
    }
   ],
   "source": [
    "best_model_log_reg2 = None\n",
    "f1_logistic2 = 0\n",
    "for i in tqdm(range(100, 10000, 1000)):\n",
    "    model_log_reg = LogisticRegression(\n",
    "        random_state=12345,\n",
    "        #solver='liblinear' или solver='lbfgs',solver='newton-cg' показали результаты хуже\n",
    "        solver='newton-cg',\n",
    "        max_iter=i,)\n",
    "    model_log_reg.fit(features_upsampled, target_upsampled)\n",
    "    predict_log_reg = model_log_reg.predict(features_valid)\n",
    "    #acc_log_reg = accuracy_score(target_valid, predict_log_reg)\n",
    "    f1_log_reg = f1_score(target_valid, predict_log_reg)\n",
    "    if f1_log_reg > f1_logistic2:\n",
    "        best_model_log_reg2 = model_log_reg\n",
    "        f1_logistic2 = f1_log_reg"
   ]
  },
  {
   "cell_type": "code",
   "execution_count": 648,
   "metadata": {},
   "outputs": [
    {
     "data": {
      "text/plain": [
       "(LogisticRegression(random_state=12345, solver='newton-cg'), 0.511520737327189)"
      ]
     },
     "execution_count": 648,
     "metadata": {},
     "output_type": "execute_result"
    }
   ],
   "source": [
    "#лучшая модель LR  и ее показатель f1-меры после downsampling'a\n",
    "best_model_log_reg2, f1_logistic2"
   ]
  },
  {
   "cell_type": "markdown",
   "metadata": {},
   "source": [
    "<div class=\"alert alert-success\">\n",
    "<h2> Комментарий ревьюера <a class=\"tocSkip\"> </h2>\n",
    "\n",
    "👍 Здесь все корректно. По комментариям о ROC-AUC аналогично.\n",
    "</div> \n",
    "\n"
   ]
  },
  {
   "cell_type": "markdown",
   "metadata": {},
   "source": [
    "<div class=\"alert alert-info\">\n",
    "<h2> Комментарий студента <a class=\"tocSkip\"> </h2>\n",
    "ROC-AUC LR downsampled\n",
    "\n",
    "</div>"
   ]
  },
  {
   "cell_type": "code",
   "execution_count": 649,
   "metadata": {},
   "outputs": [
    {
     "data": {
      "text/plain": [
       "0.7793241808169385"
      ]
     },
     "execution_count": 649,
     "metadata": {},
     "output_type": "execute_result"
    }
   ],
   "source": [
    "probabilities_valid = best_model_log_reg2.predict_proba(features_valid)\n",
    "probabilities_one_valid = probabilities_valid[:, 1]\n",
    "\n",
    "fpr, tpr, thresholds = roc_curve(target_valid, probabilities_one_valid)\n",
    "\n",
    "roc_auc_score(target_valid, probabilities_one_valid)"
   ]
  },
  {
   "cell_type": "code",
   "execution_count": 650,
   "metadata": {},
   "outputs": [
    {
     "data": {
      "image/png": "[encoded data removed]",
      "text/plain": [
       "<Figure size 432x288 with 1 Axes>"
      ]
     },
     "metadata": {},
     "output_type": "display_data"
    }
   ],
   "source": [
    "plt.figure()\n",
    "plt.plot(fpr, tpr)\n",
    "# ROC-кривая случайной модели (выглядит как прямая)\n",
    "plt.plot([0, 1], [0, 1], linestyle='--')\n",
    "plt.grid(True, linestyle=':', color='green')\n",
    "#границы осей\n",
    "plt.xlim(0, 1)\n",
    "plt.ylim(0, 1)\n",
    "\n",
    "#подписываем оси\n",
    "plt.xlabel('False Positive Rate')\n",
    "plt.ylabel('True Positive Rate')\n",
    "\n",
    "plt.title('ROC-кривая');"
   ]
  },
  {
   "cell_type": "markdown",
   "metadata": {},
   "source": [
    "#### Выводы"
   ]
  },
  {
   "cell_type": "markdown",
   "metadata": {},
   "source": [
    "    Краткий вывод: как видно из результатов, не все модели показали необходимый минимум F1-меры в 0.59:\n",
    "    DT - 0.599\n",
    "    RF - 0.595\n",
    "    LR - 0.515"
   ]
  },
  {
   "cell_type": "markdown",
   "metadata": {},
   "source": [
    "### Выводы к п.3"
   ]
  },
  {
   "cell_type": "markdown",
   "metadata": {},
   "source": [
    "Борьба с дисбалансом пошла на пользу: увеличение F1-меры на лицо.\n",
    "При upsampling'е - все три вида построения модели прошли необходимый минимум.\n",
    "При downsampling'е - не все три вида построения модели прошли необходимый минимум (только 2: DT и RF)\n",
    "\n",
    "В итогам проделанной работы, лучшей моделью оказалась модель RF с показателем F1-меры в 0,618.\n",
    "\n",
    "RandomForestClassifier(max_depth=10, min_samples_leaf=4, n_estimators=1000,\n",
    "                        random_state=12345"
   ]
  },
  {
   "cell_type": "markdown",
   "metadata": {},
   "source": [
    "<div class=\"alert alert-info\">\n",
    "<h2> Комментарий студента <a class=\"tocSkip\"> </h2>\n",
    "ROC-AUC максимальное значение имел в лучшей модели: 0.936\n",
    "\n",
    "</div>"
   ]
  },
  {
   "cell_type": "markdown",
   "metadata": {},
   "source": [
    "## Тестирование модели"
   ]
  },
  {
   "cell_type": "markdown",
   "metadata": {},
   "source": [
    "### Тест 1"
   ]
  },
  {
   "cell_type": "markdown",
   "metadata": {},
   "source": [
    "Протестируем модель на тестовой выборке."
   ]
  },
  {
   "cell_type": "code",
   "execution_count": 651,
   "metadata": {
    "scrolled": true
   },
   "outputs": [
    {
     "data": {
      "text/plain": [
       "0.6451612903225806"
      ]
     },
     "execution_count": 651,
     "metadata": {},
     "output_type": "execute_result"
    }
   ],
   "source": [
    "#best_model_forest1.fit(features_test, target_test)\n",
    "f1_score(target_test, best_model_forest1.predict(features_test))"
   ]
  },
  {
   "cell_type": "code",
   "execution_count": 652,
   "metadata": {},
   "outputs": [
    {
     "data": {
      "text/plain": [
       "0.8707401056313876"
      ]
     },
     "execution_count": 652,
     "metadata": {},
     "output_type": "execute_result"
    }
   ],
   "source": [
    "probabilities_valid = best_model_forest1.predict_proba(features_test)\n",
    "probabilities_one_valid = probabilities_valid[:, 1]\n",
    "\n",
    "fpr, tpr, thresholds = roc_curve(target_test, probabilities_one_valid)\n",
    "\n",
    "roc_auc_score(target_test, probabilities_one_valid)"
   ]
  },
  {
   "cell_type": "code",
   "execution_count": 653,
   "metadata": {},
   "outputs": [
    {
     "data": {
      "image/png": "[encoded data removed]",
      "text/plain": [
       "<Figure size 432x288 with 1 Axes>"
      ]
     },
     "metadata": {},
     "output_type": "display_data"
    }
   ],
   "source": [
    "plt.figure()\n",
    "plt.plot(fpr, tpr)\n",
    "# ROC-кривая случайной модели (выглядит как прямая)\n",
    "plt.plot([0, 1], [0, 1], linestyle='--')\n",
    "plt.grid(True, linestyle=':', color='green')\n",
    "#границы осей\n",
    "plt.xlim(0, 1)\n",
    "plt.ylim(0, 1)\n",
    "\n",
    "#подписываем оси\n",
    "plt.xlabel('False Positive Rate')\n",
    "plt.ylabel('True Positive Rate')\n",
    "\n",
    "plt.title('ROC-кривая');"
   ]
  },
  {
   "cell_type": "markdown",
   "metadata": {},
   "source": [
    "### Тест 2"
   ]
  },
  {
   "cell_type": "markdown",
   "metadata": {},
   "source": [
    "Протестируем модель на выборке, объединенной из тренировочной и валидационной."
   ]
  },
  {
   "cell_type": "code",
   "execution_count": 654,
   "metadata": {},
   "outputs": [],
   "source": [
    "features_final = pd.concat([features_train, features_valid])\n",
    "target_final = pd.concat([target_train, target_valid])"
   ]
  },
  {
   "cell_type": "code",
   "execution_count": 655,
   "metadata": {},
   "outputs": [
    {
     "data": {
      "text/plain": [
       "0.7407971566387408"
      ]
     },
     "execution_count": 655,
     "metadata": {},
     "output_type": "execute_result"
    }
   ],
   "source": [
    "#best_model_forest1.fit(features_final, target_final)\n",
    "f1_score(target_final, best_model_forest1.predict(features_final))"
   ]
  },
  {
   "cell_type": "code",
   "execution_count": 656,
   "metadata": {},
   "outputs": [
    {
     "data": {
      "text/plain": [
       "0.9457516249542747"
      ]
     },
     "execution_count": 656,
     "metadata": {},
     "output_type": "execute_result"
    }
   ],
   "source": [
    "probabilities_valid = best_model_forest1.predict_proba(features_final)\n",
    "probabilities_one_valid = probabilities_valid[:, 1]\n",
    "\n",
    "fpr, tpr, thresholds = roc_curve(target_final, probabilities_one_valid)\n",
    "\n",
    "roc_auc_score(target_final, probabilities_one_valid)"
   ]
  },
  {
   "cell_type": "markdown",
   "metadata": {},
   "source": [
    "<div class=\"alert alert-info\">\n",
    "<h2> Комментарий студента <a class=\"tocSkip\"> </h2>\n",
    "Закомментировал строку с обучением на этой выборке.\n",
    "\n",
    "</div>"
   ]
  },
  {
   "cell_type": "code",
   "execution_count": 657,
   "metadata": {},
   "outputs": [
    {
     "data": {
      "image/png": "[encoded data removed]",
      "text/plain": [
       "<Figure size 432x288 with 1 Axes>"
      ]
     },
     "metadata": {},
     "output_type": "display_data"
    }
   ],
   "source": [
    "plt.figure()\n",
    "plt.plot(fpr, tpr)\n",
    "# ROC-кривая случайной модели (выглядит как прямая)\n",
    "plt.plot([0, 1], [0, 1], linestyle='--')\n",
    "plt.grid(True, linestyle=':', color='green')\n",
    "#границы осей\n",
    "plt.xlim(0, 1)\n",
    "plt.ylim(0, 1)\n",
    "\n",
    "#подписываем оси\n",
    "plt.xlabel('False Positive Rate')\n",
    "plt.ylabel('True Positive Rate')\n",
    "\n",
    "plt.title('ROC-кривая');"
   ]
  },
  {
   "cell_type": "markdown",
   "metadata": {},
   "source": [
    "### Выводы к п.4"
   ]
  },
  {
   "cell_type": "markdown",
   "metadata": {},
   "source": [
    "    Показатель F1-меры для любой комбинации тестовых выборок выше, чем на валидационных (от 0.646 до 0.753 против 0.618)\n",
    "    Дисбаланс классов может сильно влиять на качество и точность модели."
   ]
  },
  {
   "cell_type": "markdown",
   "metadata": {},
   "source": [
    "**Комментарий к работе:** \n",
    "1) Нужно ли было после каждой модели исследовать ROC-AUC?\n",
    "\n",
    "2) Не совсем понимаю что написать в конечном выводе кроме влияния дисбаланса классов."
   ]
  },
  {
   "cell_type": "markdown",
   "metadata": {},
   "source": [
    "<div class=\"alert alert-info\">\n",
    "<h2> Комментарий студента <a class=\"tocSkip\"> </h2>\n",
    "    \n",
    "Как видно в промежуточных выводах, при сырых необработанных данных константная модель показывает результаты даже чуть лучше чем любая из предложенных в этом проекте. \n",
    "\n",
    "После манипуляций с дисбалансом классов, видим что площадь под ROC-кривой стала резко стремиться к 1, это означает что значение TPR (TruePositiveRate) увеличивается, т.е. число верно предсказанных исходов.\n",
    "\n",
    "</div>"
   ]
  },
  {
   "cell_type": "code",
   "execution_count": 666,
   "metadata": {},
   "outputs": [],
   "source": [
    "from sklearn.metrics import recall_score"
   ]
  },
  {
   "cell_type": "code",
   "execution_count": 667,
   "metadata": {},
   "outputs": [
    {
     "data": {
      "text/plain": [
       "0.7540983606557377"
      ]
     },
     "execution_count": 667,
     "metadata": {},
     "output_type": "execute_result"
    }
   ],
   "source": [
    "recall_score(target_test, best_model_forest1.predict(features_test))"
   ]
  },
  {
   "cell_type": "markdown",
   "metadata": {},
   "source": [
    "Получается модель верно детектирует почти 75 клиента из 100 ушедших."
   ]
  },
  {
   "cell_type": "markdown",
   "metadata": {},
   "source": [
    "<div class=\"alert alert-info\">\n",
    "<h2> Комментарий студента <a class=\"tocSkip\"> </h2>\n",
    "\n",
    "</div>"
   ]
  },
  {
   "cell_type": "code",
   "execution_count": 668,
   "metadata": {},
   "outputs": [],
   "source": [
    "from sklearn.dummy import DummyClassifier"
   ]
  },
  {
   "cell_type": "code",
   "execution_count": 669,
   "metadata": {},
   "outputs": [
    {
     "data": {
      "text/plain": [
       "0.3379501385041551"
      ]
     },
     "execution_count": 669,
     "metadata": {},
     "output_type": "execute_result"
    }
   ],
   "source": [
    "dummy_model = DummyClassifier(strategy='constant', constant=1)\n",
    "dummy_model.fit(features_train, target_train)\n",
    "f1_score(target_test, dummy_model.predict(features_test))"
   ]
  },
  {
   "cell_type": "markdown",
   "metadata": {},
   "source": [
    "На тестовой выборке F1-мера была равна 0.64, это означает что соотношение полноты и точности (recall & precision) на неплохом уровне. Или я ошибаюсь?"
   ]
  },
  {
   "cell_type": "code",
   "execution_count": null,
   "metadata": {},
   "outputs": [],
   "source": []
  }
 ],
 "metadata": {
  "ExecuteTimeLog": [
   {
    "duration": 417,
    "start_time": "2023-03-24T11:57:18.633Z"
   },
   {
    "duration": 373,
    "start_time": "2023-03-24T11:57:35.201Z"
   },
   {
    "duration": 21,
    "start_time": "2023-03-24T11:57:42.432Z"
   },
   {
    "duration": 14,
    "start_time": "2023-03-24T11:57:48.360Z"
   },
   {
    "duration": 50,
    "start_time": "2023-03-24T12:02:52.010Z"
   },
   {
    "duration": 15,
    "start_time": "2023-03-24T12:02:52.860Z"
   },
   {
    "duration": 6,
    "start_time": "2023-03-24T12:04:33.811Z"
   },
   {
    "duration": 6,
    "start_time": "2023-03-24T12:05:26.778Z"
   },
   {
    "duration": 17,
    "start_time": "2023-03-24T16:04:39.058Z"
   },
   {
    "duration": 20,
    "start_time": "2023-03-24T16:05:26.007Z"
   },
   {
    "duration": 55,
    "start_time": "2023-03-24T16:09:26.378Z"
   },
   {
    "duration": 50,
    "start_time": "2023-03-24T16:09:50.157Z"
   },
   {
    "duration": 13,
    "start_time": "2023-03-24T16:11:22.715Z"
   },
   {
    "duration": 20,
    "start_time": "2023-03-24T16:11:31.711Z"
   },
   {
    "duration": 118,
    "start_time": "2023-03-24T16:14:04.306Z"
   },
   {
    "duration": 5,
    "start_time": "2023-03-24T16:14:38.207Z"
   },
   {
    "duration": 13,
    "start_time": "2023-03-24T16:14:40.420Z"
   },
   {
    "duration": 18,
    "start_time": "2023-03-24T16:15:12.556Z"
   },
   {
    "duration": 5,
    "start_time": "2023-03-24T16:15:57.133Z"
   },
   {
    "duration": 50,
    "start_time": "2023-03-24T16:15:57.833Z"
   },
   {
    "duration": 21,
    "start_time": "2023-03-24T16:15:58.451Z"
   },
   {
    "duration": 19,
    "start_time": "2023-03-24T16:15:59.814Z"
   },
   {
    "duration": 14,
    "start_time": "2023-03-24T16:16:01.193Z"
   },
   {
    "duration": 27,
    "start_time": "2023-03-24T16:16:03.146Z"
   },
   {
    "duration": 5,
    "start_time": "2023-03-24T16:16:09.377Z"
   },
   {
    "duration": 16,
    "start_time": "2023-03-24T16:16:14.787Z"
   },
   {
    "duration": 3,
    "start_time": "2023-03-24T16:16:25.278Z"
   },
   {
    "duration": 51,
    "start_time": "2023-03-24T16:16:25.283Z"
   },
   {
    "duration": 16,
    "start_time": "2023-03-24T16:16:25.336Z"
   },
   {
    "duration": 16,
    "start_time": "2023-03-24T16:16:25.355Z"
   },
   {
    "duration": 15,
    "start_time": "2023-03-24T16:16:25.373Z"
   },
   {
    "duration": 11,
    "start_time": "2023-03-24T16:16:28.292Z"
   },
   {
    "duration": 20,
    "start_time": "2023-03-24T16:16:33.005Z"
   },
   {
    "duration": 3,
    "start_time": "2023-03-24T16:16:42.150Z"
   },
   {
    "duration": 55,
    "start_time": "2023-03-24T16:16:42.155Z"
   },
   {
    "duration": 18,
    "start_time": "2023-03-24T16:16:42.212Z"
   },
   {
    "duration": 14,
    "start_time": "2023-03-24T16:16:42.232Z"
   },
   {
    "duration": 24,
    "start_time": "2023-03-24T16:16:42.247Z"
   },
   {
    "duration": 5,
    "start_time": "2023-03-24T16:16:43.841Z"
   },
   {
    "duration": 8,
    "start_time": "2023-03-24T16:16:51.758Z"
   },
   {
    "duration": 5,
    "start_time": "2023-03-24T16:16:54.306Z"
   },
   {
    "duration": 3,
    "start_time": "2023-03-24T16:19:23.026Z"
   },
   {
    "duration": 42,
    "start_time": "2023-03-24T16:19:23.031Z"
   },
   {
    "duration": 16,
    "start_time": "2023-03-24T16:19:23.075Z"
   },
   {
    "duration": 9,
    "start_time": "2023-03-24T16:19:24.113Z"
   },
   {
    "duration": 3,
    "start_time": "2023-03-24T16:21:18.811Z"
   },
   {
    "duration": 12,
    "start_time": "2023-03-24T16:21:55.686Z"
   },
   {
    "duration": 8,
    "start_time": "2023-03-24T16:22:25.355Z"
   },
   {
    "duration": 6,
    "start_time": "2023-03-27T19:43:00.584Z"
   },
   {
    "duration": 6,
    "start_time": "2023-03-27T19:45:59.164Z"
   },
   {
    "duration": 10,
    "start_time": "2023-03-27T19:46:09.217Z"
   },
   {
    "duration": 5,
    "start_time": "2023-03-27T19:46:18.438Z"
   },
   {
    "duration": 12,
    "start_time": "2023-03-27T19:46:24.491Z"
   },
   {
    "duration": 3,
    "start_time": "2023-03-27T20:01:04.180Z"
   },
   {
    "duration": 21,
    "start_time": "2023-03-27T20:02:04.071Z"
   },
   {
    "duration": 14,
    "start_time": "2023-03-27T20:02:13.137Z"
   },
   {
    "duration": 4,
    "start_time": "2023-03-27T20:06:41.970Z"
   },
   {
    "duration": 2,
    "start_time": "2023-03-27T20:06:45.728Z"
   },
   {
    "duration": 4,
    "start_time": "2023-03-27T20:11:16.658Z"
   },
   {
    "duration": 5,
    "start_time": "2023-03-27T20:11:20.545Z"
   },
   {
    "duration": 6,
    "start_time": "2023-03-27T20:11:25.296Z"
   },
   {
    "duration": 8,
    "start_time": "2023-03-27T20:18:51.150Z"
   },
   {
    "duration": 9,
    "start_time": "2023-03-27T20:19:22.786Z"
   },
   {
    "duration": 23,
    "start_time": "2023-03-27T20:38:26.459Z"
   },
   {
    "duration": 8,
    "start_time": "2023-03-27T20:38:30.004Z"
   },
   {
    "duration": 6,
    "start_time": "2023-03-27T20:50:45.972Z"
   },
   {
    "duration": 467,
    "start_time": "2023-03-27T20:51:23.749Z"
   },
   {
    "duration": 12,
    "start_time": "2023-03-27T20:56:42.135Z"
   },
   {
    "duration": 138,
    "start_time": "2023-03-27T20:58:31.917Z"
   },
   {
    "duration": 139,
    "start_time": "2023-03-27T20:58:50.579Z"
   },
   {
    "duration": 135,
    "start_time": "2023-03-27T20:59:15.976Z"
   },
   {
    "duration": 191,
    "start_time": "2023-03-27T20:59:24.362Z"
   },
   {
    "duration": 151,
    "start_time": "2023-03-27T20:59:55.374Z"
   },
   {
    "duration": 130,
    "start_time": "2023-03-27T21:00:03.585Z"
   },
   {
    "duration": 131,
    "start_time": "2023-03-27T21:00:08.227Z"
   },
   {
    "duration": 124,
    "start_time": "2023-03-27T21:00:15.892Z"
   },
   {
    "duration": 155,
    "start_time": "2023-03-27T21:00:20.082Z"
   },
   {
    "duration": 124,
    "start_time": "2023-03-27T21:01:42.247Z"
   },
   {
    "duration": 121,
    "start_time": "2023-03-27T21:01:56.678Z"
   },
   {
    "duration": 158,
    "start_time": "2023-03-27T21:03:45.612Z"
   },
   {
    "duration": 157,
    "start_time": "2023-03-27T21:03:53.606Z"
   },
   {
    "duration": 168,
    "start_time": "2023-03-27T21:04:01.595Z"
   },
   {
    "duration": 239,
    "start_time": "2023-03-27T21:04:05.779Z"
   },
   {
    "duration": 150,
    "start_time": "2023-03-27T21:04:11.112Z"
   },
   {
    "duration": 161,
    "start_time": "2023-03-27T21:04:13.742Z"
   },
   {
    "duration": 169,
    "start_time": "2023-03-27T21:04:25.013Z"
   },
   {
    "duration": 183,
    "start_time": "2023-03-27T21:05:56.491Z"
   },
   {
    "duration": 192,
    "start_time": "2023-03-27T21:06:04.861Z"
   },
   {
    "duration": 91,
    "start_time": "2023-03-27T21:08:55.433Z"
   },
   {
    "duration": 206,
    "start_time": "2023-03-27T21:09:01.927Z"
   },
   {
    "duration": 189,
    "start_time": "2023-03-27T21:09:15.138Z"
   },
   {
    "duration": 242,
    "start_time": "2023-03-27T21:15:17.641Z"
   },
   {
    "duration": 204,
    "start_time": "2023-03-27T21:16:00.269Z"
   },
   {
    "duration": 337,
    "start_time": "2023-03-27T21:19:03.968Z"
   },
   {
    "duration": 205,
    "start_time": "2023-03-28T19:05:57.808Z"
   },
   {
    "duration": 212,
    "start_time": "2023-03-28T19:08:59.338Z"
   },
   {
    "duration": 203,
    "start_time": "2023-03-28T19:09:01.342Z"
   },
   {
    "duration": 213,
    "start_time": "2023-03-28T19:09:10.616Z"
   },
   {
    "duration": 198,
    "start_time": "2023-03-28T19:15:14.866Z"
   },
   {
    "duration": 203,
    "start_time": "2023-03-28T19:17:59.883Z"
   },
   {
    "duration": 209,
    "start_time": "2023-03-28T19:18:39.911Z"
   },
   {
    "duration": 219,
    "start_time": "2023-03-28T19:19:20.859Z"
   },
   {
    "duration": 193,
    "start_time": "2023-03-28T19:19:48.069Z"
   },
   {
    "duration": 159,
    "start_time": "2023-03-28T19:20:26.279Z"
   },
   {
    "duration": 276,
    "start_time": "2023-03-28T19:20:33.874Z"
   },
   {
    "duration": 70,
    "start_time": "2023-03-28T19:21:43.789Z"
   },
   {
    "duration": 700,
    "start_time": "2023-03-28T19:24:06.635Z"
   },
   {
    "duration": 3,
    "start_time": "2023-03-28T19:24:21.405Z"
   },
   {
    "duration": 3,
    "start_time": "2023-03-28T19:37:29.471Z"
   },
   {
    "duration": 6,
    "start_time": "2023-03-28T19:48:25.512Z"
   },
   {
    "duration": 10,
    "start_time": "2023-03-28T19:50:22.998Z"
   },
   {
    "duration": 5,
    "start_time": "2023-03-28T19:50:45.873Z"
   },
   {
    "duration": 8,
    "start_time": "2023-03-28T19:51:12.995Z"
   },
   {
    "duration": 5,
    "start_time": "2023-03-28T19:51:14.119Z"
   },
   {
    "duration": 9,
    "start_time": "2023-03-28T19:52:21.625Z"
   },
   {
    "duration": 4,
    "start_time": "2023-03-28T19:52:22.333Z"
   },
   {
    "duration": 7,
    "start_time": "2023-03-28T19:52:23.303Z"
   },
   {
    "duration": 5,
    "start_time": "2023-03-28T19:52:24.269Z"
   },
   {
    "duration": 135,
    "start_time": "2023-03-28T19:56:31.395Z"
   },
   {
    "duration": 145,
    "start_time": "2023-03-28T19:56:59.599Z"
   },
   {
    "duration": 100,
    "start_time": "2023-03-28T19:57:05.441Z"
   },
   {
    "duration": 21,
    "start_time": "2023-03-28T19:58:31.544Z"
   },
   {
    "duration": 4,
    "start_time": "2023-03-28T19:58:51.486Z"
   },
   {
    "duration": 105,
    "start_time": "2023-03-28T19:58:51.492Z"
   },
   {
    "duration": 14,
    "start_time": "2023-03-28T19:58:51.599Z"
   },
   {
    "duration": 13,
    "start_time": "2023-03-28T19:58:51.614Z"
   },
   {
    "duration": 14,
    "start_time": "2023-03-28T19:58:51.629Z"
   },
   {
    "duration": 32,
    "start_time": "2023-03-28T19:58:51.645Z"
   },
   {
    "duration": 1240,
    "start_time": "2023-03-28T19:58:51.679Z"
   },
   {
    "duration": 0,
    "start_time": "2023-03-28T19:58:52.921Z"
   },
   {
    "duration": 0,
    "start_time": "2023-03-28T19:58:52.923Z"
   },
   {
    "duration": 0,
    "start_time": "2023-03-28T19:58:52.924Z"
   },
   {
    "duration": 0,
    "start_time": "2023-03-28T19:58:52.925Z"
   },
   {
    "duration": 0,
    "start_time": "2023-03-28T19:58:52.926Z"
   },
   {
    "duration": 0,
    "start_time": "2023-03-28T19:58:52.928Z"
   },
   {
    "duration": 0,
    "start_time": "2023-03-28T19:58:52.930Z"
   },
   {
    "duration": 0,
    "start_time": "2023-03-28T19:58:52.931Z"
   },
   {
    "duration": 0,
    "start_time": "2023-03-28T19:58:52.933Z"
   },
   {
    "duration": 0,
    "start_time": "2023-03-28T19:58:52.934Z"
   },
   {
    "duration": 0,
    "start_time": "2023-03-28T19:58:52.936Z"
   },
   {
    "duration": 0,
    "start_time": "2023-03-28T19:58:52.938Z"
   },
   {
    "duration": 0,
    "start_time": "2023-03-28T19:58:52.940Z"
   },
   {
    "duration": 4,
    "start_time": "2023-03-28T19:58:55.102Z"
   },
   {
    "duration": 11,
    "start_time": "2023-03-28T19:58:56.009Z"
   },
   {
    "duration": 4,
    "start_time": "2023-03-28T19:58:57.117Z"
   },
   {
    "duration": 7,
    "start_time": "2023-03-28T19:58:57.835Z"
   },
   {
    "duration": 4,
    "start_time": "2023-03-28T19:58:59.125Z"
   },
   {
    "duration": 19,
    "start_time": "2023-03-28T19:59:00.574Z"
   },
   {
    "duration": 6,
    "start_time": "2023-03-28T19:59:27.846Z"
   },
   {
    "duration": 4,
    "start_time": "2023-03-28T19:59:29.735Z"
   },
   {
    "duration": 5,
    "start_time": "2023-03-28T19:59:30.600Z"
   },
   {
    "duration": 7,
    "start_time": "2023-03-28T19:59:32.500Z"
   },
   {
    "duration": 4,
    "start_time": "2023-03-28T19:59:33.881Z"
   },
   {
    "duration": 2,
    "start_time": "2023-03-28T19:59:36.382Z"
   },
   {
    "duration": 5,
    "start_time": "2023-03-28T19:59:37.595Z"
   },
   {
    "duration": 7,
    "start_time": "2023-03-28T19:59:38.046Z"
   },
   {
    "duration": 9,
    "start_time": "2023-03-28T19:59:38.548Z"
   },
   {
    "duration": 200,
    "start_time": "2023-03-28T19:59:39.937Z"
   },
   {
    "duration": 207,
    "start_time": "2023-03-28T19:59:40.807Z"
   },
   {
    "duration": 221,
    "start_time": "2023-03-28T19:59:42.274Z"
   },
   {
    "duration": 204,
    "start_time": "2023-03-28T19:59:44.381Z"
   },
   {
    "duration": 186,
    "start_time": "2023-03-28T19:59:45.745Z"
   },
   {
    "duration": 5,
    "start_time": "2023-03-28T19:59:48.916Z"
   },
   {
    "duration": 9,
    "start_time": "2023-03-28T19:59:49.723Z"
   },
   {
    "duration": 4,
    "start_time": "2023-03-28T19:59:50.274Z"
   },
   {
    "duration": 6,
    "start_time": "2023-03-28T19:59:50.808Z"
   },
   {
    "duration": 4,
    "start_time": "2023-03-28T19:59:51.820Z"
   },
   {
    "duration": 27,
    "start_time": "2023-03-28T19:59:55.000Z"
   },
   {
    "duration": 9932,
    "start_time": "2023-03-28T20:00:08.257Z"
   },
   {
    "duration": 6,
    "start_time": "2023-03-28T20:00:42.087Z"
   },
   {
    "duration": 4,
    "start_time": "2023-03-28T20:01:24.547Z"
   },
   {
    "duration": 9702,
    "start_time": "2023-03-28T20:02:33.022Z"
   },
   {
    "duration": 4,
    "start_time": "2023-03-28T20:02:42.726Z"
   },
   {
    "duration": 81,
    "start_time": "2023-03-28T20:04:44.977Z"
   },
   {
    "duration": 81,
    "start_time": "2023-03-28T20:04:52.725Z"
   },
   {
    "duration": 77,
    "start_time": "2023-03-28T20:05:53.719Z"
   },
   {
    "duration": 73,
    "start_time": "2023-03-28T20:06:02.697Z"
   },
   {
    "duration": 16,
    "start_time": "2023-03-28T20:06:05.948Z"
   },
   {
    "duration": 12,
    "start_time": "2023-03-28T20:06:18.469Z"
   },
   {
    "duration": 14,
    "start_time": "2023-03-28T20:06:27.076Z"
   },
   {
    "duration": 14,
    "start_time": "2023-03-28T20:07:01.863Z"
   },
   {
    "duration": 12,
    "start_time": "2023-03-28T20:07:05.926Z"
   },
   {
    "duration": 11,
    "start_time": "2023-03-28T20:07:14.526Z"
   },
   {
    "duration": 15,
    "start_time": "2023-03-28T20:07:25.027Z"
   },
   {
    "duration": 1071,
    "start_time": "2023-03-28T20:07:32.650Z"
   },
   {
    "duration": 1102,
    "start_time": "2023-03-28T20:07:36.685Z"
   },
   {
    "duration": 1024,
    "start_time": "2023-03-28T20:07:57.447Z"
   },
   {
    "duration": 4,
    "start_time": "2023-03-28T20:10:30.239Z"
   },
   {
    "duration": 6,
    "start_time": "2023-03-28T20:14:51.454Z"
   },
   {
    "duration": 9774,
    "start_time": "2023-03-28T20:14:58.102Z"
   },
   {
    "duration": 480,
    "start_time": "2023-03-28T20:15:22.506Z"
   },
   {
    "duration": 299,
    "start_time": "2023-03-28T20:20:53.325Z"
   },
   {
    "duration": 652297,
    "start_time": "2023-03-28T20:22:18.635Z"
   },
   {
    "duration": 4,
    "start_time": "2023-03-28T20:33:10.934Z"
   },
   {
    "duration": 10035,
    "start_time": "2023-03-28T20:36:47.895Z"
   },
   {
    "duration": 10027,
    "start_time": "2023-03-28T20:37:08.411Z"
   },
   {
    "duration": 10026,
    "start_time": "2023-03-28T20:37:32.232Z"
   },
   {
    "duration": 45061,
    "start_time": "2023-03-28T20:38:02.306Z"
   },
   {
    "duration": 6,
    "start_time": "2023-03-28T20:38:48.975Z"
   },
   {
    "duration": 21822,
    "start_time": "2023-03-28T20:39:25.924Z"
   },
   {
    "duration": 6,
    "start_time": "2023-03-28T20:41:05.997Z"
   },
   {
    "duration": 5,
    "start_time": "2023-03-28T20:41:11.011Z"
   },
   {
    "duration": 7896,
    "start_time": "2023-03-28T20:44:38.410Z"
   },
   {
    "duration": 5016,
    "start_time": "2023-03-28T20:45:10.100Z"
   },
   {
    "duration": 5016,
    "start_time": "2023-03-28T20:45:25.697Z"
   },
   {
    "duration": 272240,
    "start_time": "2023-03-28T20:45:57.307Z"
   },
   {
    "duration": 10027,
    "start_time": "2023-03-28T20:50:32.480Z"
   },
   {
    "duration": 71,
    "start_time": "2023-03-28T20:51:42.268Z"
   },
   {
    "duration": 72,
    "start_time": "2023-03-28T20:51:52.198Z"
   },
   {
    "duration": 55819,
    "start_time": "2023-03-28T20:51:57.621Z"
   },
   {
    "duration": 60140,
    "start_time": "2023-03-28T20:52:56.153Z"
   },
   {
    "duration": 5017,
    "start_time": "2023-03-28T20:54:08.746Z"
   },
   {
    "duration": 511,
    "start_time": "2023-03-28T20:54:19.334Z"
   },
   {
    "duration": 1515,
    "start_time": "2023-03-28T20:54:25.742Z"
   },
   {
    "duration": 19,
    "start_time": "2023-03-28T20:57:01.439Z"
   },
   {
    "duration": 27286,
    "start_time": "2023-03-28T20:57:21.325Z"
   },
   {
    "duration": 6,
    "start_time": "2023-03-28T20:57:59.038Z"
   },
   {
    "duration": 5,
    "start_time": "2023-03-28T20:58:10.026Z"
   },
   {
    "duration": 0,
    "start_time": "2023-03-28T21:05:22.480Z"
   },
   {
    "duration": 51162,
    "start_time": "2023-03-28T21:06:08.834Z"
   },
   {
    "duration": 4,
    "start_time": "2023-03-28T21:07:12.256Z"
   },
   {
    "duration": 2095789,
    "start_time": "2023-03-28T21:07:20.787Z"
   },
   {
    "duration": 74,
    "start_time": "2023-03-29T08:32:39.480Z"
   },
   {
    "duration": 17,
    "start_time": "2023-03-29T08:32:45.011Z"
   },
   {
    "duration": 15,
    "start_time": "2023-03-29T08:33:46.720Z"
   },
   {
    "duration": 14,
    "start_time": "2023-03-29T08:33:56.857Z"
   },
   {
    "duration": 9025,
    "start_time": "2023-03-29T08:34:39.497Z"
   },
   {
    "duration": 4521,
    "start_time": "2023-03-29T08:34:55.865Z"
   },
   {
    "duration": 4522,
    "start_time": "2023-03-29T08:35:13.104Z"
   },
   {
    "duration": 6,
    "start_time": "2023-03-29T10:57:34.422Z"
   },
   {
    "duration": 8,
    "start_time": "2023-03-29T10:59:10.455Z"
   },
   {
    "duration": 10521,
    "start_time": "2023-03-29T11:00:39.548Z"
   },
   {
    "duration": 5,
    "start_time": "2023-03-29T11:00:58.742Z"
   },
   {
    "duration": 576,
    "start_time": "2023-03-29T11:05:21.191Z"
   },
   {
    "duration": 6,
    "start_time": "2023-03-29T11:07:23.501Z"
   },
   {
    "duration": 3504,
    "start_time": "2023-03-29T11:07:23.509Z"
   },
   {
    "duration": 89536,
    "start_time": "2023-03-29T11:07:36.729Z"
   },
   {
    "duration": 6,
    "start_time": "2023-03-29T11:09:06.267Z"
   },
   {
    "duration": 6464,
    "start_time": "2023-03-29T11:10:00.111Z"
   },
   {
    "duration": 88,
    "start_time": "2023-03-29T11:10:06.577Z"
   },
   {
    "duration": 97,
    "start_time": "2023-03-29T11:10:44.134Z"
   },
   {
    "duration": 9116,
    "start_time": "2023-03-29T11:11:31.653Z"
   },
   {
    "duration": 91,
    "start_time": "2023-03-29T11:11:40.773Z"
   },
   {
    "duration": 1840,
    "start_time": "2023-03-29T11:11:49.653Z"
   },
   {
    "duration": 12,
    "start_time": "2023-03-29T11:11:51.561Z"
   },
   {
    "duration": 210176,
    "start_time": "2023-03-29T11:12:02.285Z"
   },
   {
    "duration": 6,
    "start_time": "2023-03-29T11:15:32.464Z"
   },
   {
    "duration": 12,
    "start_time": "2023-03-29T13:46:11.487Z"
   },
   {
    "duration": 16,
    "start_time": "2023-03-29T13:46:42.411Z"
   },
   {
    "duration": 80,
    "start_time": "2023-03-30T07:09:38.842Z"
   },
   {
    "duration": 262,
    "start_time": "2023-03-30T07:09:41.200Z"
   },
   {
    "duration": 374,
    "start_time": "2023-03-30T07:09:46.713Z"
   },
   {
    "duration": 256,
    "start_time": "2023-03-30T07:09:51.681Z"
   },
   {
    "duration": 25,
    "start_time": "2023-03-30T07:10:09.057Z"
   },
   {
    "duration": 252,
    "start_time": "2023-03-30T07:10:14.357Z"
   },
   {
    "duration": 252,
    "start_time": "2023-03-30T07:10:37.504Z"
   },
   {
    "duration": 4,
    "start_time": "2023-03-30T07:15:12.309Z"
   },
   {
    "duration": 11,
    "start_time": "2023-03-30T13:49:51.341Z"
   },
   {
    "duration": 7,
    "start_time": "2023-03-30T13:49:57.480Z"
   },
   {
    "duration": 4,
    "start_time": "2023-03-30T13:56:40.091Z"
   },
   {
    "duration": 6,
    "start_time": "2023-03-30T13:57:55.604Z"
   },
   {
    "duration": 16,
    "start_time": "2023-03-30T13:59:54.106Z"
   },
   {
    "duration": 13989,
    "start_time": "2023-03-30T14:04:24.893Z"
   },
   {
    "duration": 22,
    "start_time": "2023-03-30T14:05:03.945Z"
   },
   {
    "duration": 7,
    "start_time": "2023-03-30T14:05:12.766Z"
   },
   {
    "duration": 1051663,
    "start_time": "2023-03-30T14:07:40.011Z"
   },
   {
    "duration": 4,
    "start_time": "2023-03-30T14:25:11.676Z"
   },
   {
    "duration": 1799,
    "start_time": "2023-03-30T14:27:26.295Z"
   },
   {
    "duration": 5,
    "start_time": "2023-03-30T14:27:37.437Z"
   },
   {
    "duration": 9271,
    "start_time": "2023-03-30T14:27:48.394Z"
   },
   {
    "duration": 94,
    "start_time": "2023-03-30T14:27:57.668Z"
   },
   {
    "duration": 1808,
    "start_time": "2023-03-30T14:28:10.381Z"
   },
   {
    "duration": 6,
    "start_time": "2023-03-30T14:28:14.204Z"
   },
   {
    "duration": 232746,
    "start_time": "2023-03-30T14:28:21.828Z"
   },
   {
    "duration": 6,
    "start_time": "2023-03-30T14:32:14.663Z"
   },
   {
    "duration": 9,
    "start_time": "2023-03-31T05:59:14.503Z"
   },
   {
    "duration": 38,
    "start_time": "2023-03-31T07:09:18.060Z"
   },
   {
    "duration": 17,
    "start_time": "2023-03-31T07:09:27.082Z"
   },
   {
    "duration": 19,
    "start_time": "2023-03-31T07:11:21.027Z"
   },
   {
    "duration": 10,
    "start_time": "2023-03-31T07:11:54.404Z"
   },
   {
    "duration": 4,
    "start_time": "2023-03-31T07:12:03.284Z"
   },
   {
    "duration": 4,
    "start_time": "2023-03-31T07:12:08.098Z"
   },
   {
    "duration": 11,
    "start_time": "2023-03-31T07:12:32.003Z"
   },
   {
    "duration": 4,
    "start_time": "2023-03-31T07:12:36.609Z"
   },
   {
    "duration": 4,
    "start_time": "2023-03-31T07:12:46.227Z"
   },
   {
    "duration": 116,
    "start_time": "2023-03-31T07:13:43.010Z"
   },
   {
    "duration": 14434,
    "start_time": "2023-03-31T07:14:11.599Z"
   },
   {
    "duration": 5,
    "start_time": "2023-03-31T07:14:26.035Z"
   },
   {
    "duration": 9,
    "start_time": "2023-03-31T07:15:06.608Z"
   },
   {
    "duration": 121,
    "start_time": "2023-03-31T07:15:58.641Z"
   },
   {
    "duration": 17937,
    "start_time": "2023-03-31T07:16:11.736Z"
   },
   {
    "duration": 9,
    "start_time": "2023-03-31T07:16:29.678Z"
   },
   {
    "duration": 13,
    "start_time": "2023-03-31T07:17:08.288Z"
   },
   {
    "duration": 6,
    "start_time": "2023-03-31T07:17:22.591Z"
   },
   {
    "duration": 15890,
    "start_time": "2023-03-31T07:17:50.512Z"
   },
   {
    "duration": 8,
    "start_time": "2023-03-31T07:18:06.405Z"
   },
   {
    "duration": 15908,
    "start_time": "2023-03-31T07:18:21.438Z"
   },
   {
    "duration": 18,
    "start_time": "2023-03-31T07:18:37.349Z"
   },
   {
    "duration": 14546,
    "start_time": "2023-03-31T07:18:39.406Z"
   },
   {
    "duration": 10,
    "start_time": "2023-03-31T07:18:53.967Z"
   },
   {
    "duration": 7,
    "start_time": "2023-03-31T07:18:57.758Z"
   },
   {
    "duration": 14567,
    "start_time": "2023-03-31T07:19:32.733Z"
   },
   {
    "duration": 6,
    "start_time": "2023-03-31T07:19:47.303Z"
   },
   {
    "duration": 8,
    "start_time": "2023-03-31T07:19:54.613Z"
   },
   {
    "duration": 5089,
    "start_time": "2023-03-31T07:21:25.210Z"
   },
   {
    "duration": 5,
    "start_time": "2023-03-31T07:21:30.302Z"
   },
   {
    "duration": 434616,
    "start_time": "2023-03-31T07:22:44.076Z"
   },
   {
    "duration": 5,
    "start_time": "2023-03-31T07:29:58.694Z"
   },
   {
    "duration": 1883,
    "start_time": "2023-03-31T07:41:22.884Z"
   },
   {
    "duration": 94,
    "start_time": "2023-03-31T07:41:24.770Z"
   },
   {
    "duration": 11516,
    "start_time": "2023-03-31T07:41:31.949Z"
   },
   {
    "duration": 4,
    "start_time": "2023-03-31T07:41:43.468Z"
   },
   {
    "duration": 304591,
    "start_time": "2023-03-31T07:41:55.573Z"
   },
   {
    "duration": 7,
    "start_time": "2023-03-31T07:47:00.166Z"
   },
   {
    "duration": 2041,
    "start_time": "2023-03-31T08:09:20.320Z"
   },
   {
    "duration": 4,
    "start_time": "2023-03-31T08:09:22.363Z"
   },
   {
    "duration": 1903,
    "start_time": "2023-03-31T08:09:26.560Z"
   },
   {
    "duration": 9647,
    "start_time": "2023-03-31T08:09:37.016Z"
   },
   {
    "duration": 6,
    "start_time": "2023-03-31T08:09:46.666Z"
   },
   {
    "duration": 218703,
    "start_time": "2023-03-31T08:10:03.558Z"
   },
   {
    "duration": 4,
    "start_time": "2023-03-31T08:13:42.263Z"
   },
   {
    "duration": 6,
    "start_time": "2023-03-31T08:22:40.789Z"
   },
   {
    "duration": 6,
    "start_time": "2023-03-31T08:22:52.541Z"
   },
   {
    "duration": 10,
    "start_time": "2023-03-31T08:26:27.978Z"
   },
   {
    "duration": 4773,
    "start_time": "2023-03-31T08:26:37.130Z"
   },
   {
    "duration": 5,
    "start_time": "2023-03-31T08:26:41.905Z"
   },
   {
    "duration": 5,
    "start_time": "2023-03-31T08:26:50.217Z"
   },
   {
    "duration": 4,
    "start_time": "2023-03-31T08:29:33.208Z"
   },
   {
    "duration": 3,
    "start_time": "2023-03-31T08:33:55.156Z"
   },
   {
    "duration": 2433,
    "start_time": "2023-03-31T10:18:13.298Z"
   },
   {
    "duration": 14,
    "start_time": "2023-03-31T10:18:45.274Z"
   },
   {
    "duration": 6,
    "start_time": "2023-03-31T10:18:48.777Z"
   },
   {
    "duration": 11,
    "start_time": "2023-03-31T10:19:29.586Z"
   },
   {
    "duration": 6,
    "start_time": "2023-03-31T10:19:32.561Z"
   },
   {
    "duration": 9057,
    "start_time": "2023-03-31T10:19:33.665Z"
   },
   {
    "duration": 6,
    "start_time": "2023-03-31T10:20:24.466Z"
   },
   {
    "duration": 9751,
    "start_time": "2023-03-31T10:20:25.640Z"
   },
   {
    "duration": 75,
    "start_time": "2023-03-31T10:21:49.577Z"
   },
   {
    "duration": 7,
    "start_time": "2023-03-31T10:23:26.286Z"
   },
   {
    "duration": 3590,
    "start_time": "2023-03-31T10:23:46.047Z"
   },
   {
    "duration": 626,
    "start_time": "2023-03-31T13:20:11.262Z"
   },
   {
    "duration": 4,
    "start_time": "2023-03-31T13:20:17.622Z"
   },
   {
    "duration": 10148,
    "start_time": "2023-03-31T13:20:26.270Z"
   },
   {
    "duration": 553,
    "start_time": "2023-03-31T13:20:38.958Z"
   },
   {
    "duration": 539,
    "start_time": "2023-03-31T13:21:48.085Z"
   },
   {
    "duration": 171,
    "start_time": "2023-03-31T13:22:02.142Z"
   },
   {
    "duration": 176,
    "start_time": "2023-03-31T13:22:09.349Z"
   },
   {
    "duration": 153,
    "start_time": "2023-03-31T13:22:12.541Z"
   },
   {
    "duration": 162,
    "start_time": "2023-03-31T13:23:01.533Z"
   },
   {
    "duration": 152,
    "start_time": "2023-03-31T13:24:17.979Z"
   },
   {
    "duration": 68,
    "start_time": "2023-03-31T13:25:12.355Z"
   },
   {
    "duration": 180,
    "start_time": "2023-03-31T13:25:26.660Z"
   },
   {
    "duration": 537,
    "start_time": "2023-03-31T13:25:38.146Z"
   },
   {
    "duration": 334,
    "start_time": "2023-03-31T13:26:50.610Z"
   },
   {
    "duration": 330,
    "start_time": "2023-03-31T13:26:52.186Z"
   },
   {
    "duration": 160,
    "start_time": "2023-03-31T13:27:00.193Z"
   },
   {
    "duration": 1176,
    "start_time": "2023-03-31T13:27:27.481Z"
   },
   {
    "duration": 163,
    "start_time": "2023-03-31T13:27:28.659Z"
   },
   {
    "duration": 571,
    "start_time": "2023-03-31T13:27:54.324Z"
   },
   {
    "duration": 172,
    "start_time": "2023-03-31T13:27:55.278Z"
   },
   {
    "duration": 1445,
    "start_time": "2023-03-31T13:28:27.393Z"
   },
   {
    "duration": 170,
    "start_time": "2023-03-31T13:28:41.201Z"
   },
   {
    "duration": 177,
    "start_time": "2023-03-31T13:28:49.713Z"
   },
   {
    "duration": 381,
    "start_time": "2023-03-31T13:29:42.514Z"
   },
   {
    "duration": 10,
    "start_time": "2023-03-31T13:29:54.231Z"
   },
   {
    "duration": 364,
    "start_time": "2023-03-31T13:30:09.378Z"
   },
   {
    "duration": 1174,
    "start_time": "2023-03-31T13:30:28.079Z"
   },
   {
    "duration": 591,
    "start_time": "2023-03-31T13:30:54.798Z"
   },
   {
    "duration": 1357,
    "start_time": "2023-03-31T13:31:14.782Z"
   },
   {
    "duration": 4,
    "start_time": "2023-04-01T12:49:08.286Z"
   },
   {
    "duration": 4,
    "start_time": "2023-04-01T12:50:39.090Z"
   },
   {
    "duration": 26,
    "start_time": "2023-04-01T12:54:26.994Z"
   },
   {
    "duration": 23,
    "start_time": "2023-04-01T12:54:47.330Z"
   },
   {
    "duration": 12,
    "start_time": "2023-04-01T12:56:04.919Z"
   },
   {
    "duration": 11,
    "start_time": "2023-04-01T12:56:06.407Z"
   },
   {
    "duration": 11,
    "start_time": "2023-04-01T12:57:32.293Z"
   },
   {
    "duration": 17,
    "start_time": "2023-04-01T12:57:43.836Z"
   },
   {
    "duration": 12,
    "start_time": "2023-04-01T12:58:22.307Z"
   },
   {
    "duration": 13,
    "start_time": "2023-04-01T12:58:44.244Z"
   },
   {
    "duration": 5,
    "start_time": "2023-04-01T12:58:45.518Z"
   },
   {
    "duration": 10,
    "start_time": "2023-04-01T12:59:25.786Z"
   },
   {
    "duration": 6,
    "start_time": "2023-04-01T12:59:45.130Z"
   },
   {
    "duration": 5,
    "start_time": "2023-04-01T12:59:46.359Z"
   },
   {
    "duration": 3,
    "start_time": "2023-04-01T13:04:41.153Z"
   },
   {
    "duration": 3,
    "start_time": "2023-04-01T13:04:43.899Z"
   },
   {
    "duration": 3,
    "start_time": "2023-04-01T13:04:46.576Z"
   },
   {
    "duration": 4171,
    "start_time": "2023-04-01T13:05:02.393Z"
   },
   {
    "duration": 4344,
    "start_time": "2023-04-01T13:06:24.823Z"
   },
   {
    "duration": 92,
    "start_time": "2023-04-01T13:08:32.492Z"
   },
   {
    "duration": 12,
    "start_time": "2023-04-01T14:07:19.664Z"
   },
   {
    "duration": 10,
    "start_time": "2023-04-01T14:07:31.808Z"
   },
   {
    "duration": 150,
    "start_time": "2023-04-01T14:07:35.710Z"
   },
   {
    "duration": 1075738,
    "start_time": "2023-04-01T14:11:36.765Z"
   },
   {
    "duration": 4,
    "start_time": "2023-04-01T14:29:32.504Z"
   },
   {
    "duration": 72,
    "start_time": "2023-04-01T14:29:32.510Z"
   },
   {
    "duration": 160,
    "start_time": "2023-04-01T14:29:32.584Z"
   },
   {
    "duration": 4642,
    "start_time": "2023-04-01T14:33:29.820Z"
   },
   {
    "duration": 10,
    "start_time": "2023-04-01T14:36:06.615Z"
   },
   {
    "duration": 146,
    "start_time": "2023-04-01T14:36:19.623Z"
   },
   {
    "duration": 8590294,
    "start_time": "2023-04-01T14:37:07.059Z"
   },
   {
    "duration": 5,
    "start_time": "2023-04-01T17:00:17.361Z"
   },
   {
    "duration": 150,
    "start_time": "2023-04-01T17:00:17.367Z"
   },
   {
    "duration": 300,
    "start_time": "2023-04-01T17:00:17.518Z"
   },
   {
    "duration": 72263,
    "start_time": "2023-04-01T17:00:17.819Z"
   },
   {
    "duration": 0,
    "start_time": "2023-04-01T17:01:30.084Z"
   },
   {
    "duration": 137160,
    "start_time": "2023-04-01T17:01:33.319Z"
   },
   {
    "duration": 5,
    "start_time": "2023-04-01T17:03:50.481Z"
   },
   {
    "duration": 19,
    "start_time": "2023-04-01T17:03:50.487Z"
   },
   {
    "duration": 171,
    "start_time": "2023-04-01T17:03:50.508Z"
   },
   {
    "duration": 191995,
    "start_time": "2023-04-01T17:05:12.971Z"
   },
   {
    "duration": 95,
    "start_time": "2023-04-01T17:08:24.969Z"
   },
   {
    "duration": 191603,
    "start_time": "2023-04-01T17:08:25.066Z"
   },
   {
    "duration": 94,
    "start_time": "2023-04-01T17:11:36.671Z"
   },
   {
    "duration": 102,
    "start_time": "2023-04-01T17:11:36.768Z"
   },
   {
    "duration": 91,
    "start_time": "2023-04-01T17:11:36.873Z"
   },
   {
    "duration": 323,
    "start_time": "2023-04-01T17:12:33.765Z"
   },
   {
    "duration": 8,
    "start_time": "2023-04-01T17:13:22.340Z"
   },
   {
    "duration": 147,
    "start_time": "2023-04-01T17:13:23.752Z"
   },
   {
    "duration": 18,
    "start_time": "2023-04-01T17:13:35.127Z"
   },
   {
    "duration": 148,
    "start_time": "2023-04-01T17:13:36.203Z"
   },
   {
    "duration": 8,
    "start_time": "2023-04-01T17:14:03.530Z"
   },
   {
    "duration": 149,
    "start_time": "2023-04-01T17:14:04.822Z"
   },
   {
    "duration": 19,
    "start_time": "2023-04-01T17:14:16.026Z"
   },
   {
    "duration": 147,
    "start_time": "2023-04-01T17:14:16.843Z"
   },
   {
    "duration": 32,
    "start_time": "2023-04-01T17:14:49.730Z"
   },
   {
    "duration": 148,
    "start_time": "2023-04-01T17:14:51.518Z"
   },
   {
    "duration": 8,
    "start_time": "2023-04-01T17:16:44.102Z"
   },
   {
    "duration": 10,
    "start_time": "2023-04-01T17:16:56.666Z"
   },
   {
    "duration": 295,
    "start_time": "2023-04-01T17:17:09.830Z"
   },
   {
    "duration": 10,
    "start_time": "2023-04-01T17:17:33.861Z"
   },
   {
    "duration": 9,
    "start_time": "2023-04-01T17:17:49.142Z"
   },
   {
    "duration": 144,
    "start_time": "2023-04-01T17:17:49.930Z"
   },
   {
    "duration": 351,
    "start_time": "2023-04-01T17:17:57.039Z"
   },
   {
    "duration": 146,
    "start_time": "2023-04-01T17:17:59.114Z"
   },
   {
    "duration": 11,
    "start_time": "2023-04-01T17:18:07.659Z"
   },
   {
    "duration": 152,
    "start_time": "2023-04-01T17:18:09.114Z"
   },
   {
    "duration": 9,
    "start_time": "2023-04-01T17:18:31.322Z"
   },
   {
    "duration": 91,
    "start_time": "2023-04-01T17:18:45.390Z"
   },
   {
    "duration": 11,
    "start_time": "2023-04-01T17:18:58.214Z"
   },
   {
    "duration": 8,
    "start_time": "2023-04-01T17:19:07.038Z"
   },
   {
    "duration": 149,
    "start_time": "2023-04-01T17:19:07.622Z"
   },
   {
    "duration": 105,
    "start_time": "2023-04-01T17:19:11.373Z"
   },
   {
    "duration": 149,
    "start_time": "2023-04-01T17:19:12.021Z"
   },
   {
    "duration": 14,
    "start_time": "2023-04-01T17:19:24.007Z"
   },
   {
    "duration": 138,
    "start_time": "2023-04-01T17:19:24.614Z"
   },
   {
    "duration": 320,
    "start_time": "2023-04-01T17:21:26.022Z"
   },
   {
    "duration": 313,
    "start_time": "2023-04-01T17:24:20.447Z"
   },
   {
    "duration": 319,
    "start_time": "2023-04-01T17:25:45.353Z"
   },
   {
    "duration": 321,
    "start_time": "2023-04-01T17:26:08.922Z"
   },
   {
    "duration": 147,
    "start_time": "2023-04-01T17:26:16.622Z"
   },
   {
    "duration": 1119,
    "start_time": "2023-04-01T17:27:41.238Z"
   },
   {
    "duration": 1141,
    "start_time": "2023-04-01T17:27:47.002Z"
   },
   {
    "duration": 152,
    "start_time": "2023-04-01T17:27:58.102Z"
   },
   {
    "duration": 2,
    "start_time": "2023-04-01T17:29:24.910Z"
   },
   {
    "duration": 2,
    "start_time": "2023-04-01T17:29:25.616Z"
   },
   {
    "duration": 2,
    "start_time": "2023-04-01T17:29:26.707Z"
   },
   {
    "duration": 3,
    "start_time": "2023-04-01T17:29:27.326Z"
   },
   {
    "duration": 11,
    "start_time": "2023-04-01T17:29:43.273Z"
   },
   {
    "duration": 12,
    "start_time": "2023-04-01T17:29:46.914Z"
   },
   {
    "duration": 2,
    "start_time": "2023-04-01T17:30:12.648Z"
   },
   {
    "duration": 2,
    "start_time": "2023-04-01T17:31:12.902Z"
   },
   {
    "duration": 2,
    "start_time": "2023-04-01T17:31:34.570Z"
   },
   {
    "duration": 2,
    "start_time": "2023-04-01T17:31:35.231Z"
   },
   {
    "duration": 3,
    "start_time": "2023-04-01T17:31:36.110Z"
   },
   {
    "duration": 2,
    "start_time": "2023-04-01T17:40:50.343Z"
   },
   {
    "duration": 7,
    "start_time": "2023-04-01T17:40:58.315Z"
   },
   {
    "duration": 7,
    "start_time": "2023-04-01T17:41:41.724Z"
   },
   {
    "duration": 2,
    "start_time": "2023-04-01T17:48:50.267Z"
   },
   {
    "duration": 327,
    "start_time": "2023-04-01T17:49:57.298Z"
   },
   {
    "duration": 2532,
    "start_time": "2023-04-01T21:44:07.129Z"
   },
   {
    "duration": 38,
    "start_time": "2023-04-01T21:44:09.663Z"
   },
   {
    "duration": 11,
    "start_time": "2023-04-01T21:44:09.702Z"
   },
   {
    "duration": 16,
    "start_time": "2023-04-01T21:44:09.716Z"
   },
   {
    "duration": 12,
    "start_time": "2023-04-01T21:44:09.733Z"
   },
   {
    "duration": 11,
    "start_time": "2023-04-01T21:44:09.746Z"
   },
   {
    "duration": 4,
    "start_time": "2023-04-01T21:44:09.758Z"
   },
   {
    "duration": 10,
    "start_time": "2023-04-01T21:44:09.764Z"
   },
   {
    "duration": 10,
    "start_time": "2023-04-01T21:44:09.776Z"
   },
   {
    "duration": 22,
    "start_time": "2023-04-01T21:44:09.788Z"
   },
   {
    "duration": 13,
    "start_time": "2023-04-01T21:44:09.811Z"
   },
   {
    "duration": 3,
    "start_time": "2023-04-01T21:44:09.826Z"
   },
   {
    "duration": 10,
    "start_time": "2023-04-01T21:44:09.830Z"
   },
   {
    "duration": 10,
    "start_time": "2023-04-01T21:44:09.841Z"
   },
   {
    "duration": 6,
    "start_time": "2023-04-01T21:44:09.853Z"
   },
   {
    "duration": 166,
    "start_time": "2023-04-01T21:44:09.860Z"
   },
   {
    "duration": 169,
    "start_time": "2023-04-01T21:44:10.027Z"
   },
   {
    "duration": 175,
    "start_time": "2023-04-01T21:44:10.198Z"
   },
   {
    "duration": 166,
    "start_time": "2023-04-01T21:44:10.374Z"
   },
   {
    "duration": 208,
    "start_time": "2023-04-01T21:44:10.541Z"
   },
   {
    "duration": 4,
    "start_time": "2023-04-01T21:44:10.750Z"
   },
   {
    "duration": 9,
    "start_time": "2023-04-01T21:44:10.755Z"
   },
   {
    "duration": 3,
    "start_time": "2023-04-01T21:44:10.766Z"
   },
   {
    "duration": 15,
    "start_time": "2023-04-01T21:44:10.771Z"
   },
   {
    "duration": 11,
    "start_time": "2023-04-01T21:44:10.787Z"
   },
   {
    "duration": 11,
    "start_time": "2023-04-01T21:44:11.843Z"
   },
   {
    "duration": 131163,
    "start_time": "2023-04-01T21:44:20.112Z"
   },
   {
    "duration": 4,
    "start_time": "2023-04-01T21:46:31.276Z"
   },
   {
    "duration": 72,
    "start_time": "2023-04-01T21:46:31.281Z"
   },
   {
    "duration": 113,
    "start_time": "2023-04-01T21:46:31.355Z"
   },
   {
    "duration": 4,
    "start_time": "2023-04-01T21:50:39.049Z"
   },
   {
    "duration": 50,
    "start_time": "2023-04-01T21:50:39.056Z"
   },
   {
    "duration": 10,
    "start_time": "2023-04-01T21:50:39.108Z"
   },
   {
    "duration": 24,
    "start_time": "2023-04-01T21:50:39.119Z"
   },
   {
    "duration": 12,
    "start_time": "2023-04-01T21:50:39.145Z"
   },
   {
    "duration": 9,
    "start_time": "2023-04-01T21:50:39.158Z"
   },
   {
    "duration": 3,
    "start_time": "2023-04-01T21:50:39.169Z"
   },
   {
    "duration": 8,
    "start_time": "2023-04-01T21:50:39.173Z"
   },
   {
    "duration": 5,
    "start_time": "2023-04-01T21:50:39.182Z"
   },
   {
    "duration": 16,
    "start_time": "2023-04-01T21:50:39.188Z"
   },
   {
    "duration": 9,
    "start_time": "2023-04-01T21:50:39.206Z"
   },
   {
    "duration": 7,
    "start_time": "2023-04-01T21:50:39.216Z"
   },
   {
    "duration": 27,
    "start_time": "2023-04-01T21:50:39.225Z"
   },
   {
    "duration": 8,
    "start_time": "2023-04-01T21:50:39.254Z"
   },
   {
    "duration": 7,
    "start_time": "2023-04-01T21:50:39.263Z"
   },
   {
    "duration": 191,
    "start_time": "2023-04-01T21:50:39.272Z"
   },
   {
    "duration": 168,
    "start_time": "2023-04-01T21:50:39.464Z"
   },
   {
    "duration": 196,
    "start_time": "2023-04-01T21:50:39.633Z"
   },
   {
    "duration": 173,
    "start_time": "2023-04-01T21:50:39.831Z"
   },
   {
    "duration": 161,
    "start_time": "2023-04-01T21:50:40.006Z"
   },
   {
    "duration": 4,
    "start_time": "2023-04-01T21:50:40.168Z"
   },
   {
    "duration": 18,
    "start_time": "2023-04-01T21:50:40.173Z"
   },
   {
    "duration": 7,
    "start_time": "2023-04-01T21:50:40.192Z"
   },
   {
    "duration": 18,
    "start_time": "2023-04-01T21:50:40.200Z"
   },
   {
    "duration": 4,
    "start_time": "2023-04-01T21:50:40.219Z"
   },
   {
    "duration": 26,
    "start_time": "2023-04-01T21:50:40.225Z"
   },
   {
    "duration": 8541,
    "start_time": "2023-04-01T21:50:40.252Z"
   },
   {
    "duration": 4,
    "start_time": "2023-04-01T21:50:48.794Z"
   },
   {
    "duration": 976,
    "start_time": "2023-04-01T21:50:48.803Z"
   },
   {
    "duration": 12,
    "start_time": "2023-04-01T21:50:49.788Z"
   },
   {
    "duration": 208,
    "start_time": "2023-04-01T21:50:49.802Z"
   },
   {
    "duration": 134393,
    "start_time": "2023-04-01T21:50:50.012Z"
   },
   {
    "duration": 3,
    "start_time": "2023-04-01T21:53:04.407Z"
   },
   {
    "duration": 43,
    "start_time": "2023-04-01T21:53:04.412Z"
   },
   {
    "duration": 112,
    "start_time": "2023-04-01T21:53:04.457Z"
   },
   {
    "duration": 2481,
    "start_time": "2023-04-01T21:53:04.571Z"
   },
   {
    "duration": 92,
    "start_time": "2023-04-01T21:53:07.058Z"
   },
   {
    "duration": 10,
    "start_time": "2023-04-01T21:53:07.151Z"
   },
   {
    "duration": 266,
    "start_time": "2023-04-01T21:53:07.162Z"
   },
   {
    "duration": 5,
    "start_time": "2023-04-01T21:53:07.430Z"
   },
   {
    "duration": 3,
    "start_time": "2023-04-01T21:53:07.448Z"
   },
   {
    "duration": 117,
    "start_time": "2023-04-01T21:53:07.453Z"
   },
   {
    "duration": 0,
    "start_time": "2023-04-01T21:53:07.572Z"
   },
   {
    "duration": 0,
    "start_time": "2023-04-01T21:53:07.573Z"
   },
   {
    "duration": 0,
    "start_time": "2023-04-01T21:53:07.574Z"
   },
   {
    "duration": 0,
    "start_time": "2023-04-01T21:53:07.575Z"
   },
   {
    "duration": 0,
    "start_time": "2023-04-01T21:53:07.576Z"
   },
   {
    "duration": 0,
    "start_time": "2023-04-01T21:53:07.576Z"
   },
   {
    "duration": 0,
    "start_time": "2023-04-01T21:53:07.577Z"
   },
   {
    "duration": 0,
    "start_time": "2023-04-01T21:53:07.578Z"
   },
   {
    "duration": 0,
    "start_time": "2023-04-01T21:53:07.579Z"
   },
   {
    "duration": 0,
    "start_time": "2023-04-01T21:53:07.580Z"
   },
   {
    "duration": 0,
    "start_time": "2023-04-01T21:53:07.581Z"
   },
   {
    "duration": 0,
    "start_time": "2023-04-01T21:53:07.582Z"
   },
   {
    "duration": 0,
    "start_time": "2023-04-01T21:53:07.583Z"
   },
   {
    "duration": 0,
    "start_time": "2023-04-01T21:53:07.583Z"
   },
   {
    "duration": 0,
    "start_time": "2023-04-01T21:53:07.584Z"
   },
   {
    "duration": 0,
    "start_time": "2023-04-01T21:53:07.585Z"
   },
   {
    "duration": 0,
    "start_time": "2023-04-01T21:53:07.586Z"
   },
   {
    "duration": 0,
    "start_time": "2023-04-01T21:53:07.587Z"
   },
   {
    "duration": 0,
    "start_time": "2023-04-01T21:53:07.588Z"
   },
   {
    "duration": 0,
    "start_time": "2023-04-01T21:53:07.589Z"
   },
   {
    "duration": 0,
    "start_time": "2023-04-01T21:53:07.590Z"
   },
   {
    "duration": 0,
    "start_time": "2023-04-01T21:53:07.591Z"
   },
   {
    "duration": 0,
    "start_time": "2023-04-01T21:53:07.591Z"
   },
   {
    "duration": 0,
    "start_time": "2023-04-01T21:53:07.592Z"
   },
   {
    "duration": 0,
    "start_time": "2023-04-01T21:53:07.593Z"
   },
   {
    "duration": 0,
    "start_time": "2023-04-01T21:53:07.594Z"
   },
   {
    "duration": 0,
    "start_time": "2023-04-01T21:53:07.595Z"
   },
   {
    "duration": 0,
    "start_time": "2023-04-01T21:53:07.597Z"
   },
   {
    "duration": 0,
    "start_time": "2023-04-01T21:53:07.597Z"
   },
   {
    "duration": 0,
    "start_time": "2023-04-01T21:53:07.648Z"
   },
   {
    "duration": 0,
    "start_time": "2023-04-01T21:53:07.650Z"
   },
   {
    "duration": 0,
    "start_time": "2023-04-01T21:53:07.651Z"
   },
   {
    "duration": 0,
    "start_time": "2023-04-01T21:53:07.652Z"
   },
   {
    "duration": 0,
    "start_time": "2023-04-01T21:53:07.653Z"
   },
   {
    "duration": 0,
    "start_time": "2023-04-01T21:53:07.654Z"
   },
   {
    "duration": 0,
    "start_time": "2023-04-01T21:53:07.655Z"
   },
   {
    "duration": 0,
    "start_time": "2023-04-01T21:53:07.656Z"
   },
   {
    "duration": 0,
    "start_time": "2023-04-01T21:53:07.657Z"
   },
   {
    "duration": 0,
    "start_time": "2023-04-01T21:53:07.658Z"
   },
   {
    "duration": 0,
    "start_time": "2023-04-01T21:53:07.659Z"
   },
   {
    "duration": 0,
    "start_time": "2023-04-01T21:53:07.660Z"
   },
   {
    "duration": 0,
    "start_time": "2023-04-01T21:53:07.661Z"
   },
   {
    "duration": 0,
    "start_time": "2023-04-01T21:53:07.661Z"
   },
   {
    "duration": 0,
    "start_time": "2023-04-01T21:53:07.662Z"
   },
   {
    "duration": 0,
    "start_time": "2023-04-01T21:53:07.663Z"
   },
   {
    "duration": 1697,
    "start_time": "2023-04-01T21:56:15.924Z"
   },
   {
    "duration": 38,
    "start_time": "2023-04-01T21:56:17.623Z"
   },
   {
    "duration": 13,
    "start_time": "2023-04-01T21:56:17.662Z"
   },
   {
    "duration": 15,
    "start_time": "2023-04-01T21:56:17.677Z"
   },
   {
    "duration": 12,
    "start_time": "2023-04-01T21:56:17.694Z"
   },
   {
    "duration": 10,
    "start_time": "2023-04-01T21:56:17.707Z"
   },
   {
    "duration": 33,
    "start_time": "2023-04-01T21:56:17.719Z"
   },
   {
    "duration": 5,
    "start_time": "2023-04-01T21:56:17.753Z"
   },
   {
    "duration": 6,
    "start_time": "2023-04-01T21:56:17.759Z"
   },
   {
    "duration": 18,
    "start_time": "2023-04-01T21:56:17.767Z"
   },
   {
    "duration": 8,
    "start_time": "2023-04-01T21:56:17.786Z"
   },
   {
    "duration": 5,
    "start_time": "2023-04-01T21:56:17.795Z"
   },
   {
    "duration": 18,
    "start_time": "2023-04-01T21:56:17.801Z"
   },
   {
    "duration": 16,
    "start_time": "2023-04-01T21:56:17.821Z"
   },
   {
    "duration": 11,
    "start_time": "2023-04-01T21:56:17.838Z"
   },
   {
    "duration": 162,
    "start_time": "2023-04-01T21:56:17.850Z"
   },
   {
    "duration": 166,
    "start_time": "2023-04-01T21:56:18.014Z"
   },
   {
    "duration": 170,
    "start_time": "2023-04-01T21:56:18.181Z"
   },
   {
    "duration": 161,
    "start_time": "2023-04-01T21:56:18.352Z"
   },
   {
    "duration": 206,
    "start_time": "2023-04-01T21:56:18.515Z"
   },
   {
    "duration": 4,
    "start_time": "2023-04-01T21:56:18.723Z"
   },
   {
    "duration": 10,
    "start_time": "2023-04-01T21:56:18.728Z"
   },
   {
    "duration": 4,
    "start_time": "2023-04-01T21:56:18.748Z"
   },
   {
    "duration": 6,
    "start_time": "2023-04-01T21:56:18.754Z"
   },
   {
    "duration": 4,
    "start_time": "2023-04-01T21:56:18.761Z"
   },
   {
    "duration": 12,
    "start_time": "2023-04-01T21:56:18.766Z"
   },
   {
    "duration": 8262,
    "start_time": "2023-04-01T21:56:18.780Z"
   },
   {
    "duration": 7,
    "start_time": "2023-04-01T21:56:27.044Z"
   },
   {
    "duration": 950,
    "start_time": "2023-04-01T21:56:27.053Z"
   },
   {
    "duration": 7,
    "start_time": "2023-04-01T21:56:28.005Z"
   },
   {
    "duration": 117,
    "start_time": "2023-04-01T21:56:28.014Z"
   },
   {
    "duration": 132645,
    "start_time": "2023-04-01T21:56:28.133Z"
   },
   {
    "duration": 4,
    "start_time": "2023-04-01T21:58:40.779Z"
   },
   {
    "duration": 44,
    "start_time": "2023-04-01T21:58:40.784Z"
   },
   {
    "duration": 113,
    "start_time": "2023-04-01T21:58:40.829Z"
   },
   {
    "duration": 3218,
    "start_time": "2023-04-01T21:58:40.944Z"
   },
   {
    "duration": 86,
    "start_time": "2023-04-01T21:58:44.164Z"
   },
   {
    "duration": 9,
    "start_time": "2023-04-01T21:58:44.252Z"
   },
   {
    "duration": 292,
    "start_time": "2023-04-01T21:58:44.263Z"
   },
   {
    "duration": 6,
    "start_time": "2023-04-01T21:58:44.557Z"
   },
   {
    "duration": 5,
    "start_time": "2023-04-01T21:58:44.568Z"
   },
   {
    "duration": 202,
    "start_time": "2023-04-01T21:58:44.574Z"
   },
   {
    "duration": 0,
    "start_time": "2023-04-01T21:58:44.777Z"
   },
   {
    "duration": 0,
    "start_time": "2023-04-01T21:58:44.778Z"
   },
   {
    "duration": 0,
    "start_time": "2023-04-01T21:58:44.779Z"
   },
   {
    "duration": 0,
    "start_time": "2023-04-01T21:58:44.780Z"
   },
   {
    "duration": 0,
    "start_time": "2023-04-01T21:58:44.781Z"
   },
   {
    "duration": 0,
    "start_time": "2023-04-01T21:58:44.782Z"
   },
   {
    "duration": 0,
    "start_time": "2023-04-01T21:58:44.783Z"
   },
   {
    "duration": 0,
    "start_time": "2023-04-01T21:58:44.785Z"
   },
   {
    "duration": 0,
    "start_time": "2023-04-01T21:58:44.785Z"
   },
   {
    "duration": 0,
    "start_time": "2023-04-01T21:58:44.786Z"
   },
   {
    "duration": 0,
    "start_time": "2023-04-01T21:58:44.787Z"
   },
   {
    "duration": 1,
    "start_time": "2023-04-01T21:58:44.787Z"
   },
   {
    "duration": 0,
    "start_time": "2023-04-01T21:58:44.788Z"
   },
   {
    "duration": 0,
    "start_time": "2023-04-01T21:58:44.789Z"
   },
   {
    "duration": 0,
    "start_time": "2023-04-01T21:58:44.789Z"
   },
   {
    "duration": 0,
    "start_time": "2023-04-01T21:58:44.790Z"
   },
   {
    "duration": 0,
    "start_time": "2023-04-01T21:58:44.791Z"
   },
   {
    "duration": 0,
    "start_time": "2023-04-01T21:58:44.792Z"
   },
   {
    "duration": 0,
    "start_time": "2023-04-01T21:58:44.793Z"
   },
   {
    "duration": 0,
    "start_time": "2023-04-01T21:58:44.794Z"
   },
   {
    "duration": 0,
    "start_time": "2023-04-01T21:58:44.795Z"
   },
   {
    "duration": 0,
    "start_time": "2023-04-01T21:58:44.796Z"
   },
   {
    "duration": 0,
    "start_time": "2023-04-01T21:58:44.797Z"
   },
   {
    "duration": 0,
    "start_time": "2023-04-01T21:58:44.798Z"
   },
   {
    "duration": 0,
    "start_time": "2023-04-01T21:58:44.799Z"
   },
   {
    "duration": 0,
    "start_time": "2023-04-01T21:58:44.849Z"
   },
   {
    "duration": 0,
    "start_time": "2023-04-01T21:58:44.850Z"
   },
   {
    "duration": 0,
    "start_time": "2023-04-01T21:58:44.850Z"
   },
   {
    "duration": 0,
    "start_time": "2023-04-01T21:58:44.851Z"
   },
   {
    "duration": 0,
    "start_time": "2023-04-01T21:58:44.852Z"
   },
   {
    "duration": 0,
    "start_time": "2023-04-01T21:58:44.853Z"
   },
   {
    "duration": 0,
    "start_time": "2023-04-01T21:58:44.854Z"
   },
   {
    "duration": 0,
    "start_time": "2023-04-01T21:58:44.855Z"
   },
   {
    "duration": 0,
    "start_time": "2023-04-01T21:58:44.856Z"
   },
   {
    "duration": 0,
    "start_time": "2023-04-01T21:58:44.856Z"
   },
   {
    "duration": 0,
    "start_time": "2023-04-01T21:58:44.858Z"
   },
   {
    "duration": 0,
    "start_time": "2023-04-01T21:58:44.858Z"
   },
   {
    "duration": 0,
    "start_time": "2023-04-01T21:58:44.859Z"
   },
   {
    "duration": 0,
    "start_time": "2023-04-01T21:58:44.860Z"
   },
   {
    "duration": 0,
    "start_time": "2023-04-01T21:58:44.861Z"
   },
   {
    "duration": 0,
    "start_time": "2023-04-01T21:58:44.862Z"
   },
   {
    "duration": 0,
    "start_time": "2023-04-01T21:58:44.862Z"
   },
   {
    "duration": 0,
    "start_time": "2023-04-01T21:58:44.863Z"
   },
   {
    "duration": 0,
    "start_time": "2023-04-01T21:58:44.864Z"
   },
   {
    "duration": 0,
    "start_time": "2023-04-01T21:58:44.865Z"
   },
   {
    "duration": 3,
    "start_time": "2023-04-01T22:02:39.317Z"
   },
   {
    "duration": 14,
    "start_time": "2023-04-01T22:02:42.532Z"
   },
   {
    "duration": 5,
    "start_time": "2023-04-01T22:03:03.008Z"
   },
   {
    "duration": 5,
    "start_time": "2023-04-01T22:03:16.100Z"
   },
   {
    "duration": 12,
    "start_time": "2023-04-01T23:17:34.961Z"
   },
   {
    "duration": 11,
    "start_time": "2023-04-01T23:18:18.214Z"
   },
   {
    "duration": 5,
    "start_time": "2023-04-02T08:05:01.173Z"
   },
   {
    "duration": 10,
    "start_time": "2023-04-02T08:05:33.562Z"
   },
   {
    "duration": 8,
    "start_time": "2023-04-02T08:06:11.815Z"
   },
   {
    "duration": 4,
    "start_time": "2023-04-02T08:07:43.070Z"
   },
   {
    "duration": 5,
    "start_time": "2023-04-02T08:07:48.410Z"
   },
   {
    "duration": 83,
    "start_time": "2023-04-02T08:11:06.512Z"
   },
   {
    "duration": 85,
    "start_time": "2023-04-02T08:13:04.411Z"
   },
   {
    "duration": 2,
    "start_time": "2023-04-02T08:13:20.117Z"
   },
   {
    "duration": 41997,
    "start_time": "2023-04-02T08:13:21.167Z"
   },
   {
    "duration": 4,
    "start_time": "2023-04-02T08:14:04.835Z"
   },
   {
    "duration": 13068,
    "start_time": "2023-04-02T08:15:05.094Z"
   },
   {
    "duration": 4,
    "start_time": "2023-04-02T08:15:19.856Z"
   },
   {
    "duration": 4,
    "start_time": "2023-04-02T08:15:21.996Z"
   },
   {
    "duration": 15802,
    "start_time": "2023-04-02T08:15:31.163Z"
   },
   {
    "duration": 95,
    "start_time": "2023-04-02T08:15:46.968Z"
   },
   {
    "duration": 18,
    "start_time": "2023-04-02T08:20:28.369Z"
   },
   {
    "duration": 7,
    "start_time": "2023-04-02T08:22:22.505Z"
   },
   {
    "duration": 4,
    "start_time": "2023-04-02T08:22:41.554Z"
   },
   {
    "duration": 44,
    "start_time": "2023-04-02T08:22:41.560Z"
   },
   {
    "duration": 17,
    "start_time": "2023-04-02T08:22:41.606Z"
   },
   {
    "duration": 37,
    "start_time": "2023-04-02T08:22:41.625Z"
   },
   {
    "duration": 16,
    "start_time": "2023-04-02T08:22:41.665Z"
   },
   {
    "duration": 13,
    "start_time": "2023-04-02T08:22:41.682Z"
   },
   {
    "duration": 5,
    "start_time": "2023-04-02T08:22:41.697Z"
   },
   {
    "duration": 8,
    "start_time": "2023-04-02T08:22:41.703Z"
   },
   {
    "duration": 5,
    "start_time": "2023-04-02T08:22:41.761Z"
   },
   {
    "duration": 12,
    "start_time": "2023-04-02T08:22:41.768Z"
   },
   {
    "duration": 5,
    "start_time": "2023-04-02T08:22:41.784Z"
   },
   {
    "duration": 8,
    "start_time": "2023-04-02T08:22:41.790Z"
   },
   {
    "duration": 8,
    "start_time": "2023-04-02T08:22:41.800Z"
   },
   {
    "duration": 52,
    "start_time": "2023-04-02T08:22:41.810Z"
   },
   {
    "duration": 9,
    "start_time": "2023-04-02T08:22:41.863Z"
   },
   {
    "duration": 239,
    "start_time": "2023-04-02T08:22:41.873Z"
   },
   {
    "duration": 224,
    "start_time": "2023-04-02T08:22:42.114Z"
   },
   {
    "duration": 249,
    "start_time": "2023-04-02T08:22:42.340Z"
   },
   {
    "duration": 376,
    "start_time": "2023-04-02T08:22:42.591Z"
   },
   {
    "duration": 212,
    "start_time": "2023-04-02T08:22:42.969Z"
   },
   {
    "duration": 5,
    "start_time": "2023-04-02T08:22:43.183Z"
   },
   {
    "duration": 13,
    "start_time": "2023-04-02T08:22:43.190Z"
   },
   {
    "duration": 5,
    "start_time": "2023-04-02T08:22:43.205Z"
   },
   {
    "duration": 7,
    "start_time": "2023-04-02T08:22:43.211Z"
   },
   {
    "duration": 4,
    "start_time": "2023-04-02T08:22:43.220Z"
   },
   {
    "duration": 27,
    "start_time": "2023-04-02T08:22:50.889Z"
   },
   {
    "duration": 9478,
    "start_time": "2023-04-02T08:23:00.087Z"
   },
   {
    "duration": 4,
    "start_time": "2023-04-02T08:23:12.793Z"
   },
   {
    "duration": 1078,
    "start_time": "2023-04-02T08:23:14.732Z"
   },
   {
    "duration": 10,
    "start_time": "2023-04-02T08:23:23.888Z"
   },
   {
    "duration": 4,
    "start_time": "2023-04-02T08:23:34.068Z"
   },
   {
    "duration": 12,
    "start_time": "2023-04-02T08:23:35.854Z"
   },
   {
    "duration": 3,
    "start_time": "2023-04-02T08:26:13.633Z"
   },
   {
    "duration": 219,
    "start_time": "2023-04-02T08:26:14.298Z"
   },
   {
    "duration": 4,
    "start_time": "2023-04-02T08:30:28.938Z"
   },
   {
    "duration": 47,
    "start_time": "2023-04-02T08:30:28.944Z"
   },
   {
    "duration": 12,
    "start_time": "2023-04-02T08:30:28.992Z"
   },
   {
    "duration": 13,
    "start_time": "2023-04-02T08:30:29.006Z"
   },
   {
    "duration": 18,
    "start_time": "2023-04-02T08:30:29.021Z"
   },
   {
    "duration": 12,
    "start_time": "2023-04-02T08:30:29.062Z"
   },
   {
    "duration": 5,
    "start_time": "2023-04-02T08:30:29.076Z"
   },
   {
    "duration": 13,
    "start_time": "2023-04-02T08:30:29.083Z"
   },
   {
    "duration": 16,
    "start_time": "2023-04-02T08:30:29.098Z"
   },
   {
    "duration": 46,
    "start_time": "2023-04-02T08:30:29.116Z"
   },
   {
    "duration": 14,
    "start_time": "2023-04-02T08:30:29.164Z"
   },
   {
    "duration": 21,
    "start_time": "2023-04-02T08:30:29.180Z"
   },
   {
    "duration": 44,
    "start_time": "2023-04-02T08:30:29.203Z"
   },
   {
    "duration": 39,
    "start_time": "2023-04-02T08:30:29.248Z"
   },
   {
    "duration": 34,
    "start_time": "2023-04-02T08:30:29.289Z"
   },
   {
    "duration": 255,
    "start_time": "2023-04-02T08:30:29.325Z"
   },
   {
    "duration": 235,
    "start_time": "2023-04-02T08:30:29.582Z"
   },
   {
    "duration": 246,
    "start_time": "2023-04-02T08:30:29.819Z"
   },
   {
    "duration": 239,
    "start_time": "2023-04-02T08:30:30.067Z"
   },
   {
    "duration": 221,
    "start_time": "2023-04-02T08:30:30.308Z"
   },
   {
    "duration": 4,
    "start_time": "2023-04-02T08:30:30.531Z"
   },
   {
    "duration": 48,
    "start_time": "2023-04-02T08:30:30.537Z"
   },
   {
    "duration": 45,
    "start_time": "2023-04-02T08:30:30.586Z"
   },
   {
    "duration": 50,
    "start_time": "2023-04-02T08:30:30.637Z"
   },
   {
    "duration": 53,
    "start_time": "2023-04-02T08:30:30.689Z"
   },
   {
    "duration": 40,
    "start_time": "2023-04-02T08:30:30.744Z"
   },
   {
    "duration": 73,
    "start_time": "2023-04-02T08:30:30.786Z"
   },
   {
    "duration": 9585,
    "start_time": "2023-04-02T08:30:30.861Z"
   },
   {
    "duration": 5,
    "start_time": "2023-04-02T08:30:40.448Z"
   },
   {
    "duration": 1068,
    "start_time": "2023-04-02T08:30:40.462Z"
   },
   {
    "duration": 9,
    "start_time": "2023-04-02T08:30:41.532Z"
   },
   {
    "duration": 159,
    "start_time": "2023-04-02T08:30:41.562Z"
   },
   {
    "duration": 350753,
    "start_time": "2023-04-02T08:30:41.723Z"
   },
   {
    "duration": 4,
    "start_time": "2023-04-02T08:36:32.478Z"
   },
   {
    "duration": 86,
    "start_time": "2023-04-02T08:36:32.484Z"
   },
   {
    "duration": 155,
    "start_time": "2023-04-02T08:36:32.572Z"
   },
   {
    "duration": 6134,
    "start_time": "2023-04-02T08:36:32.729Z"
   },
   {
    "duration": 3,
    "start_time": "2023-04-02T08:36:38.864Z"
   },
   {
    "duration": 42193,
    "start_time": "2023-04-02T08:36:38.869Z"
   },
   {
    "duration": 4,
    "start_time": "2023-04-02T08:37:21.064Z"
   },
   {
    "duration": 97,
    "start_time": "2023-04-02T08:37:21.070Z"
   },
   {
    "duration": 264,
    "start_time": "2023-04-02T08:37:21.169Z"
   },
   {
    "duration": 6,
    "start_time": "2023-04-02T08:37:21.434Z"
   },
   {
    "duration": 22,
    "start_time": "2023-04-02T08:37:21.441Z"
   },
   {
    "duration": 31,
    "start_time": "2023-04-02T08:37:21.465Z"
   },
   {
    "duration": 12708,
    "start_time": "2023-04-02T08:37:21.497Z"
   },
   {
    "duration": 4,
    "start_time": "2023-04-02T08:37:34.207Z"
   },
   {
    "duration": 19,
    "start_time": "2023-04-02T08:37:34.213Z"
   },
   {
    "duration": 171,
    "start_time": "2023-04-02T08:37:34.233Z"
   },
   {
    "duration": 65835,
    "start_time": "2023-04-02T08:37:34.405Z"
   },
   {
    "duration": 4,
    "start_time": "2023-04-02T08:38:40.242Z"
   },
   {
    "duration": 67,
    "start_time": "2023-04-02T08:38:40.247Z"
   },
   {
    "duration": 170,
    "start_time": "2023-04-02T08:38:40.315Z"
   },
   {
    "duration": 8379,
    "start_time": "2023-04-02T08:38:40.486Z"
   },
   {
    "duration": 96,
    "start_time": "2023-04-02T08:38:48.867Z"
   },
   {
    "duration": 96,
    "start_time": "2023-04-02T08:38:48.966Z"
   },
   {
    "duration": 237,
    "start_time": "2023-04-02T08:38:49.065Z"
   },
   {
    "duration": 4,
    "start_time": "2023-04-02T08:38:49.304Z"
   },
   {
    "duration": 16,
    "start_time": "2023-04-02T08:38:49.310Z"
   },
   {
    "duration": 4680,
    "start_time": "2023-04-02T08:38:49.327Z"
   },
   {
    "duration": 3,
    "start_time": "2023-04-02T08:38:54.009Z"
   },
   {
    "duration": 21,
    "start_time": "2023-04-02T08:38:54.013Z"
   },
   {
    "duration": 0,
    "start_time": "2023-04-02T08:38:54.038Z"
   },
   {
    "duration": 0,
    "start_time": "2023-04-02T08:38:54.039Z"
   },
   {
    "duration": 0,
    "start_time": "2023-04-02T08:38:54.062Z"
   },
   {
    "duration": 0,
    "start_time": "2023-04-02T08:38:54.063Z"
   },
   {
    "duration": 0,
    "start_time": "2023-04-02T08:38:54.064Z"
   },
   {
    "duration": 0,
    "start_time": "2023-04-02T08:38:54.066Z"
   },
   {
    "duration": 0,
    "start_time": "2023-04-02T08:38:54.067Z"
   },
   {
    "duration": 0,
    "start_time": "2023-04-02T08:38:54.069Z"
   },
   {
    "duration": 0,
    "start_time": "2023-04-02T08:38:54.070Z"
   },
   {
    "duration": 0,
    "start_time": "2023-04-02T08:38:54.071Z"
   },
   {
    "duration": 0,
    "start_time": "2023-04-02T08:38:54.073Z"
   },
   {
    "duration": 0,
    "start_time": "2023-04-02T08:38:54.074Z"
   },
   {
    "duration": 0,
    "start_time": "2023-04-02T08:38:54.075Z"
   },
   {
    "duration": 0,
    "start_time": "2023-04-02T08:38:54.077Z"
   },
   {
    "duration": 0,
    "start_time": "2023-04-02T08:38:54.078Z"
   },
   {
    "duration": 0,
    "start_time": "2023-04-02T08:38:54.079Z"
   },
   {
    "duration": 0,
    "start_time": "2023-04-02T08:38:54.080Z"
   },
   {
    "duration": 0,
    "start_time": "2023-04-02T08:38:54.081Z"
   },
   {
    "duration": 0,
    "start_time": "2023-04-02T08:38:54.083Z"
   },
   {
    "duration": 0,
    "start_time": "2023-04-02T08:38:54.084Z"
   },
   {
    "duration": 0,
    "start_time": "2023-04-02T08:38:54.085Z"
   },
   {
    "duration": 0,
    "start_time": "2023-04-02T08:38:54.086Z"
   },
   {
    "duration": 0,
    "start_time": "2023-04-02T08:38:54.087Z"
   },
   {
    "duration": 0,
    "start_time": "2023-04-02T08:38:54.088Z"
   },
   {
    "duration": 0,
    "start_time": "2023-04-02T08:38:54.089Z"
   },
   {
    "duration": 0,
    "start_time": "2023-04-02T08:38:54.091Z"
   },
   {
    "duration": 0,
    "start_time": "2023-04-02T08:38:54.092Z"
   },
   {
    "duration": 0,
    "start_time": "2023-04-02T08:38:54.093Z"
   },
   {
    "duration": 12,
    "start_time": "2023-04-02T08:43:35.439Z"
   },
   {
    "duration": 4680,
    "start_time": "2023-04-02T08:44:37.662Z"
   },
   {
    "duration": 5,
    "start_time": "2023-04-02T08:44:42.345Z"
   },
   {
    "duration": 9,
    "start_time": "2023-04-02T08:44:46.291Z"
   },
   {
    "duration": 4,
    "start_time": "2023-04-02T08:44:53.623Z"
   },
   {
    "duration": 38,
    "start_time": "2023-04-02T08:44:53.629Z"
   },
   {
    "duration": 14,
    "start_time": "2023-04-02T08:44:53.669Z"
   },
   {
    "duration": 19,
    "start_time": "2023-04-02T08:44:53.685Z"
   },
   {
    "duration": 21,
    "start_time": "2023-04-02T08:44:53.706Z"
   },
   {
    "duration": 16,
    "start_time": "2023-04-02T08:44:53.761Z"
   },
   {
    "duration": 6,
    "start_time": "2023-04-02T08:44:53.780Z"
   },
   {
    "duration": 9,
    "start_time": "2023-04-02T08:44:53.788Z"
   },
   {
    "duration": 10,
    "start_time": "2023-04-02T08:44:53.799Z"
   },
   {
    "duration": 56,
    "start_time": "2023-04-02T08:44:53.811Z"
   },
   {
    "duration": 5,
    "start_time": "2023-04-02T08:44:53.871Z"
   },
   {
    "duration": 3,
    "start_time": "2023-04-02T08:44:53.878Z"
   },
   {
    "duration": 8,
    "start_time": "2023-04-02T08:44:53.883Z"
   },
   {
    "duration": 8,
    "start_time": "2023-04-02T08:44:53.892Z"
   },
   {
    "duration": 60,
    "start_time": "2023-04-02T08:44:53.902Z"
   },
   {
    "duration": 244,
    "start_time": "2023-04-02T08:44:53.964Z"
   },
   {
    "duration": 226,
    "start_time": "2023-04-02T08:44:54.210Z"
   },
   {
    "duration": 236,
    "start_time": "2023-04-02T08:44:54.438Z"
   },
   {
    "duration": 245,
    "start_time": "2023-04-02T08:44:54.676Z"
   },
   {
    "duration": 236,
    "start_time": "2023-04-02T08:44:54.923Z"
   },
   {
    "duration": 5,
    "start_time": "2023-04-02T08:44:55.163Z"
   },
   {
    "duration": 13,
    "start_time": "2023-04-02T08:44:55.169Z"
   },
   {
    "duration": 5,
    "start_time": "2023-04-02T08:44:55.184Z"
   },
   {
    "duration": 14,
    "start_time": "2023-04-02T08:44:55.190Z"
   },
   {
    "duration": 4,
    "start_time": "2023-04-02T08:44:55.206Z"
   },
   {
    "duration": 11,
    "start_time": "2023-04-02T08:44:55.212Z"
   },
   {
    "duration": 58,
    "start_time": "2023-04-02T08:44:55.225Z"
   },
   {
    "duration": 9648,
    "start_time": "2023-04-02T08:44:55.285Z"
   },
   {
    "duration": 4,
    "start_time": "2023-04-02T08:45:04.940Z"
   },
   {
    "duration": 1131,
    "start_time": "2023-04-02T08:45:04.946Z"
   },
   {
    "duration": 14,
    "start_time": "2023-04-02T08:45:06.079Z"
   },
   {
    "duration": 191,
    "start_time": "2023-04-02T08:45:06.095Z"
   },
   {
    "duration": 349801,
    "start_time": "2023-04-02T08:45:06.288Z"
   },
   {
    "duration": 5,
    "start_time": "2023-04-02T08:50:56.090Z"
   },
   {
    "duration": 83,
    "start_time": "2023-04-02T08:50:56.096Z"
   },
   {
    "duration": 155,
    "start_time": "2023-04-02T08:50:56.180Z"
   },
   {
    "duration": 6725,
    "start_time": "2023-04-02T08:50:56.337Z"
   },
   {
    "duration": 3,
    "start_time": "2023-04-02T08:51:03.064Z"
   },
   {
    "duration": 41897,
    "start_time": "2023-04-02T08:51:03.068Z"
   },
   {
    "duration": 96,
    "start_time": "2023-04-02T08:51:44.967Z"
   },
   {
    "duration": 20,
    "start_time": "2023-04-02T08:51:45.065Z"
   },
   {
    "duration": 241,
    "start_time": "2023-04-02T08:51:45.164Z"
   },
   {
    "duration": 6,
    "start_time": "2023-04-02T08:51:45.407Z"
   },
   {
    "duration": 5,
    "start_time": "2023-04-02T08:51:45.415Z"
   },
   {
    "duration": 15,
    "start_time": "2023-04-02T08:51:45.421Z"
   },
   {
    "duration": 12732,
    "start_time": "2023-04-02T08:51:45.461Z"
   },
   {
    "duration": 4,
    "start_time": "2023-04-02T08:51:58.195Z"
   },
   {
    "duration": 14,
    "start_time": "2023-04-02T08:51:58.201Z"
   },
   {
    "duration": 180,
    "start_time": "2023-04-02T08:51:58.216Z"
   },
   {
    "duration": 65500,
    "start_time": "2023-04-02T08:51:58.398Z"
   },
   {
    "duration": 4,
    "start_time": "2023-04-02T08:53:03.900Z"
   },
   {
    "duration": 83,
    "start_time": "2023-04-02T08:53:03.906Z"
   },
   {
    "duration": 162,
    "start_time": "2023-04-02T08:53:03.991Z"
   },
   {
    "duration": 8708,
    "start_time": "2023-04-02T08:53:04.155Z"
   },
   {
    "duration": 4,
    "start_time": "2023-04-02T08:53:12.865Z"
   },
   {
    "duration": 99,
    "start_time": "2023-04-02T08:53:12.871Z"
   },
   {
    "duration": 243,
    "start_time": "2023-04-02T08:53:12.972Z"
   },
   {
    "duration": 5,
    "start_time": "2023-04-02T08:53:13.216Z"
   },
   {
    "duration": 15,
    "start_time": "2023-04-02T08:53:13.222Z"
   },
   {
    "duration": 4660,
    "start_time": "2023-04-02T08:53:13.239Z"
   },
   {
    "duration": 4,
    "start_time": "2023-04-02T08:53:17.901Z"
   },
   {
    "duration": 10,
    "start_time": "2023-04-02T08:53:48.376Z"
   },
   {
    "duration": 146,
    "start_time": "2023-04-02T08:53:49.100Z"
   },
   {
    "duration": 29359,
    "start_time": "2023-04-02T08:53:51.615Z"
   },
   {
    "duration": 4,
    "start_time": "2023-04-02T08:54:20.976Z"
   },
   {
    "duration": 54,
    "start_time": "2023-04-02T08:54:20.982Z"
   },
   {
    "duration": 178,
    "start_time": "2023-04-02T08:54:21.038Z"
   },
   {
    "duration": 8645,
    "start_time": "2023-04-02T08:54:21.218Z"
   },
   {
    "duration": 5,
    "start_time": "2023-04-02T08:54:29.864Z"
   },
   {
    "duration": 92,
    "start_time": "2023-04-02T08:54:29.870Z"
   },
   {
    "duration": 252,
    "start_time": "2023-04-02T08:54:29.965Z"
   },
   {
    "duration": 70,
    "start_time": "2023-04-02T08:54:30.219Z"
   },
   {
    "duration": 71,
    "start_time": "2023-04-02T08:54:30.292Z"
   },
   {
    "duration": 170,
    "start_time": "2023-04-02T08:54:30.364Z"
   },
   {
    "duration": 7,
    "start_time": "2023-04-02T08:54:30.536Z"
   },
   {
    "duration": 198,
    "start_time": "2023-04-02T08:54:30.561Z"
   },
   {
    "duration": 192,
    "start_time": "2023-04-02T08:54:30.760Z"
   },
   {
    "duration": 181,
    "start_time": "2023-04-02T08:54:30.954Z"
   },
   {
    "duration": 3,
    "start_time": "2023-04-02T08:54:31.137Z"
   },
   {
    "duration": 49,
    "start_time": "2023-04-02T08:54:31.142Z"
   },
   {
    "duration": 40,
    "start_time": "2023-04-02T08:54:31.193Z"
   },
   {
    "duration": 40,
    "start_time": "2023-04-02T08:54:31.235Z"
   },
   {
    "duration": 50,
    "start_time": "2023-04-02T08:54:31.276Z"
   },
   {
    "duration": 39,
    "start_time": "2023-04-02T08:54:31.328Z"
   },
   {
    "duration": 48,
    "start_time": "2023-04-02T08:54:31.369Z"
   },
   {
    "duration": 46,
    "start_time": "2023-04-02T08:54:31.419Z"
   },
   {
    "duration": 36,
    "start_time": "2023-04-02T08:54:31.467Z"
   },
   {
    "duration": 101,
    "start_time": "2023-04-02T08:54:31.504Z"
   },
   {
    "duration": 3,
    "start_time": "2023-04-02T08:54:31.607Z"
   },
   {
    "duration": 59,
    "start_time": "2023-04-02T08:54:31.612Z"
   }
  ],
  "celltoolbar": "Tags",
  "kernelspec": {
   "display_name": "Python 3 (ipykernel)",
   "language": "python",
   "name": "python3"
  },
  "language_info": {
   "codemirror_mode": {
    "name": "ipython",
    "version": 3
   },
   "file_extension": ".py",
   "mimetype": "text/x-python",
   "name": "python",
   "nbconvert_exporter": "python",
   "pygments_lexer": "ipython3",
   "version": "3.10.9"
  },
  "toc": {
   "base_numbering": 1,
   "nav_menu": {
    "height": "660.333px",
    "width": "369.333px"
   },
   "number_sections": true,
   "sideBar": true,
   "skip_h1_title": true,
   "title_cell": "Содержание",
   "title_sidebar": "Contents",
   "toc_cell": true,
   "toc_position": {
    "height": "calc(100% - 180px)",
    "left": "10px",
    "top": "150px",
    "width": "291px"
   },
   "toc_section_display": true,
   "toc_window_display": true
  }
 },
 "nbformat": 4,
 "nbformat_minor": 4
}
